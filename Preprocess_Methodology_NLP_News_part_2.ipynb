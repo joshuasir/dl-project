{
  "nbformat": 4,
  "nbformat_minor": 0,
  "metadata": {
    "accelerator": "GPU",
    "colab": {
      "name": "NLP News part 2.ipynb",
      "provenance": [],
      "collapsed_sections": []
    },
    "kernelspec": {
      "display_name": "Python 3",
      "name": "python3"
    },
    "language_info": {
      "name": "python"
    },
    "widgets": {
      "application/vnd.jupyter.widget-state+json": {
        "382f1dc38f5a400793f3812e7b5be311": {
          "model_module": "@jupyter-widgets/controls",
          "model_name": "HBoxModel",
          "model_module_version": "1.5.0",
          "state": {
            "_view_name": "HBoxView",
            "_dom_classes": [],
            "_model_name": "HBoxModel",
            "_view_module": "@jupyter-widgets/controls",
            "_model_module_version": "1.5.0",
            "_view_count": null,
            "_view_module_version": "1.5.0",
            "box_style": "",
            "layout": "IPY_MODEL_edb82b611eb74586a67dc407760e2fd3",
            "_model_module": "@jupyter-widgets/controls",
            "children": [
              "IPY_MODEL_a803a40926b9429b9eb05634ce898ac4",
              "IPY_MODEL_cf9c32488f7d437e82961419ddf8d6f5",
              "IPY_MODEL_a11433b5722947ad8005fc611ddef56a"
            ]
          }
        },
        "edb82b611eb74586a67dc407760e2fd3": {
          "model_module": "@jupyter-widgets/base",
          "model_name": "LayoutModel",
          "model_module_version": "1.2.0",
          "state": {
            "_view_name": "LayoutView",
            "grid_template_rows": null,
            "right": null,
            "justify_content": null,
            "_view_module": "@jupyter-widgets/base",
            "overflow": null,
            "_model_module_version": "1.2.0",
            "_view_count": null,
            "flex_flow": null,
            "width": null,
            "min_width": null,
            "border": null,
            "align_items": null,
            "bottom": null,
            "_model_module": "@jupyter-widgets/base",
            "top": null,
            "grid_column": null,
            "overflow_y": null,
            "overflow_x": null,
            "grid_auto_flow": null,
            "grid_area": null,
            "grid_template_columns": null,
            "flex": null,
            "_model_name": "LayoutModel",
            "justify_items": null,
            "grid_row": null,
            "max_height": null,
            "align_content": null,
            "visibility": null,
            "align_self": null,
            "height": null,
            "min_height": null,
            "padding": null,
            "grid_auto_rows": null,
            "grid_gap": null,
            "max_width": null,
            "order": null,
            "_view_module_version": "1.2.0",
            "grid_template_areas": null,
            "object_position": null,
            "object_fit": null,
            "grid_auto_columns": null,
            "margin": null,
            "display": null,
            "left": null
          }
        },
        "a803a40926b9429b9eb05634ce898ac4": {
          "model_module": "@jupyter-widgets/controls",
          "model_name": "HTMLModel",
          "model_module_version": "1.5.0",
          "state": {
            "_view_name": "HTMLView",
            "style": "IPY_MODEL_f9d5f0adc6d048c0aef32e7af3672cca",
            "_dom_classes": [],
            "description": "",
            "_model_name": "HTMLModel",
            "placeholder": "​",
            "_view_module": "@jupyter-widgets/controls",
            "_model_module_version": "1.5.0",
            "value": "Downloading: 100%",
            "_view_count": null,
            "_view_module_version": "1.5.0",
            "description_tooltip": null,
            "_model_module": "@jupyter-widgets/controls",
            "layout": "IPY_MODEL_770990a12132462ea05a227834956570"
          }
        },
        "cf9c32488f7d437e82961419ddf8d6f5": {
          "model_module": "@jupyter-widgets/controls",
          "model_name": "FloatProgressModel",
          "model_module_version": "1.5.0",
          "state": {
            "_view_name": "ProgressView",
            "style": "IPY_MODEL_b5c95957c1e24a729da724ce75229156",
            "_dom_classes": [],
            "description": "",
            "_model_name": "FloatProgressModel",
            "bar_style": "success",
            "max": 526681800,
            "_view_module": "@jupyter-widgets/controls",
            "_model_module_version": "1.5.0",
            "value": 526681800,
            "_view_count": null,
            "_view_module_version": "1.5.0",
            "orientation": "horizontal",
            "min": 0,
            "description_tooltip": null,
            "_model_module": "@jupyter-widgets/controls",
            "layout": "IPY_MODEL_057953e80e87422d9de5df5ffe4fd197"
          }
        },
        "a11433b5722947ad8005fc611ddef56a": {
          "model_module": "@jupyter-widgets/controls",
          "model_name": "HTMLModel",
          "model_module_version": "1.5.0",
          "state": {
            "_view_name": "HTMLView",
            "style": "IPY_MODEL_fb1ad44786b84686b459f63e4af50a06",
            "_dom_classes": [],
            "description": "",
            "_model_name": "HTMLModel",
            "placeholder": "​",
            "_view_module": "@jupyter-widgets/controls",
            "_model_module_version": "1.5.0",
            "value": " 527M/527M [00:16&lt;00:00, 34.7MB/s]",
            "_view_count": null,
            "_view_module_version": "1.5.0",
            "description_tooltip": null,
            "_model_module": "@jupyter-widgets/controls",
            "layout": "IPY_MODEL_bf05e25be63f4895b97a42430661bfaf"
          }
        },
        "f9d5f0adc6d048c0aef32e7af3672cca": {
          "model_module": "@jupyter-widgets/controls",
          "model_name": "DescriptionStyleModel",
          "model_module_version": "1.5.0",
          "state": {
            "_view_name": "StyleView",
            "_model_name": "DescriptionStyleModel",
            "description_width": "",
            "_view_module": "@jupyter-widgets/base",
            "_model_module_version": "1.5.0",
            "_view_count": null,
            "_view_module_version": "1.2.0",
            "_model_module": "@jupyter-widgets/controls"
          }
        },
        "770990a12132462ea05a227834956570": {
          "model_module": "@jupyter-widgets/base",
          "model_name": "LayoutModel",
          "model_module_version": "1.2.0",
          "state": {
            "_view_name": "LayoutView",
            "grid_template_rows": null,
            "right": null,
            "justify_content": null,
            "_view_module": "@jupyter-widgets/base",
            "overflow": null,
            "_model_module_version": "1.2.0",
            "_view_count": null,
            "flex_flow": null,
            "width": null,
            "min_width": null,
            "border": null,
            "align_items": null,
            "bottom": null,
            "_model_module": "@jupyter-widgets/base",
            "top": null,
            "grid_column": null,
            "overflow_y": null,
            "overflow_x": null,
            "grid_auto_flow": null,
            "grid_area": null,
            "grid_template_columns": null,
            "flex": null,
            "_model_name": "LayoutModel",
            "justify_items": null,
            "grid_row": null,
            "max_height": null,
            "align_content": null,
            "visibility": null,
            "align_self": null,
            "height": null,
            "min_height": null,
            "padding": null,
            "grid_auto_rows": null,
            "grid_gap": null,
            "max_width": null,
            "order": null,
            "_view_module_version": "1.2.0",
            "grid_template_areas": null,
            "object_position": null,
            "object_fit": null,
            "grid_auto_columns": null,
            "margin": null,
            "display": null,
            "left": null
          }
        },
        "b5c95957c1e24a729da724ce75229156": {
          "model_module": "@jupyter-widgets/controls",
          "model_name": "ProgressStyleModel",
          "model_module_version": "1.5.0",
          "state": {
            "_view_name": "StyleView",
            "_model_name": "ProgressStyleModel",
            "description_width": "",
            "_view_module": "@jupyter-widgets/base",
            "_model_module_version": "1.5.0",
            "_view_count": null,
            "_view_module_version": "1.2.0",
            "bar_color": null,
            "_model_module": "@jupyter-widgets/controls"
          }
        },
        "057953e80e87422d9de5df5ffe4fd197": {
          "model_module": "@jupyter-widgets/base",
          "model_name": "LayoutModel",
          "model_module_version": "1.2.0",
          "state": {
            "_view_name": "LayoutView",
            "grid_template_rows": null,
            "right": null,
            "justify_content": null,
            "_view_module": "@jupyter-widgets/base",
            "overflow": null,
            "_model_module_version": "1.2.0",
            "_view_count": null,
            "flex_flow": null,
            "width": null,
            "min_width": null,
            "border": null,
            "align_items": null,
            "bottom": null,
            "_model_module": "@jupyter-widgets/base",
            "top": null,
            "grid_column": null,
            "overflow_y": null,
            "overflow_x": null,
            "grid_auto_flow": null,
            "grid_area": null,
            "grid_template_columns": null,
            "flex": null,
            "_model_name": "LayoutModel",
            "justify_items": null,
            "grid_row": null,
            "max_height": null,
            "align_content": null,
            "visibility": null,
            "align_self": null,
            "height": null,
            "min_height": null,
            "padding": null,
            "grid_auto_rows": null,
            "grid_gap": null,
            "max_width": null,
            "order": null,
            "_view_module_version": "1.2.0",
            "grid_template_areas": null,
            "object_position": null,
            "object_fit": null,
            "grid_auto_columns": null,
            "margin": null,
            "display": null,
            "left": null
          }
        },
        "fb1ad44786b84686b459f63e4af50a06": {
          "model_module": "@jupyter-widgets/controls",
          "model_name": "DescriptionStyleModel",
          "model_module_version": "1.5.0",
          "state": {
            "_view_name": "StyleView",
            "_model_name": "DescriptionStyleModel",
            "description_width": "",
            "_view_module": "@jupyter-widgets/base",
            "_model_module_version": "1.5.0",
            "_view_count": null,
            "_view_module_version": "1.2.0",
            "_model_module": "@jupyter-widgets/controls"
          }
        },
        "bf05e25be63f4895b97a42430661bfaf": {
          "model_module": "@jupyter-widgets/base",
          "model_name": "LayoutModel",
          "model_module_version": "1.2.0",
          "state": {
            "_view_name": "LayoutView",
            "grid_template_rows": null,
            "right": null,
            "justify_content": null,
            "_view_module": "@jupyter-widgets/base",
            "overflow": null,
            "_model_module_version": "1.2.0",
            "_view_count": null,
            "flex_flow": null,
            "width": null,
            "min_width": null,
            "border": null,
            "align_items": null,
            "bottom": null,
            "_model_module": "@jupyter-widgets/base",
            "top": null,
            "grid_column": null,
            "overflow_y": null,
            "overflow_x": null,
            "grid_auto_flow": null,
            "grid_area": null,
            "grid_template_columns": null,
            "flex": null,
            "_model_name": "LayoutModel",
            "justify_items": null,
            "grid_row": null,
            "max_height": null,
            "align_content": null,
            "visibility": null,
            "align_self": null,
            "height": null,
            "min_height": null,
            "padding": null,
            "grid_auto_rows": null,
            "grid_gap": null,
            "max_width": null,
            "order": null,
            "_view_module_version": "1.2.0",
            "grid_template_areas": null,
            "object_position": null,
            "object_fit": null,
            "grid_auto_columns": null,
            "margin": null,
            "display": null,
            "left": null
          }
        },
        "86c5ef7eac404f7d80f820697bba9118": {
          "model_module": "@jupyter-widgets/controls",
          "model_name": "HBoxModel",
          "model_module_version": "1.5.0",
          "state": {
            "_view_name": "HBoxView",
            "_dom_classes": [],
            "_model_name": "HBoxModel",
            "_view_module": "@jupyter-widgets/controls",
            "_model_module_version": "1.5.0",
            "_view_count": null,
            "_view_module_version": "1.5.0",
            "box_style": "",
            "layout": "IPY_MODEL_c115b78ad4e64fbfb3ff8f8b3a46b7f5",
            "_model_module": "@jupyter-widgets/controls",
            "children": [
              "IPY_MODEL_e036ca4700124122ad2c1c15bad9904f",
              "IPY_MODEL_1161f37ed684498e9c02968cfc072ab5",
              "IPY_MODEL_8ce75dffc11a44b0997cddc6454ca8ff"
            ]
          }
        },
        "c115b78ad4e64fbfb3ff8f8b3a46b7f5": {
          "model_module": "@jupyter-widgets/base",
          "model_name": "LayoutModel",
          "model_module_version": "1.2.0",
          "state": {
            "_view_name": "LayoutView",
            "grid_template_rows": null,
            "right": null,
            "justify_content": null,
            "_view_module": "@jupyter-widgets/base",
            "overflow": null,
            "_model_module_version": "1.2.0",
            "_view_count": null,
            "flex_flow": null,
            "width": null,
            "min_width": null,
            "border": null,
            "align_items": null,
            "bottom": null,
            "_model_module": "@jupyter-widgets/base",
            "top": null,
            "grid_column": null,
            "overflow_y": null,
            "overflow_x": null,
            "grid_auto_flow": null,
            "grid_area": null,
            "grid_template_columns": null,
            "flex": null,
            "_model_name": "LayoutModel",
            "justify_items": null,
            "grid_row": null,
            "max_height": null,
            "align_content": null,
            "visibility": null,
            "align_self": null,
            "height": null,
            "min_height": null,
            "padding": null,
            "grid_auto_rows": null,
            "grid_gap": null,
            "max_width": null,
            "order": null,
            "_view_module_version": "1.2.0",
            "grid_template_areas": null,
            "object_position": null,
            "object_fit": null,
            "grid_auto_columns": null,
            "margin": null,
            "display": null,
            "left": null
          }
        },
        "e036ca4700124122ad2c1c15bad9904f": {
          "model_module": "@jupyter-widgets/controls",
          "model_name": "HTMLModel",
          "model_module_version": "1.5.0",
          "state": {
            "_view_name": "HTMLView",
            "style": "IPY_MODEL_e213480d951644dd91c2b2e65d9c177a",
            "_dom_classes": [],
            "description": "",
            "_model_name": "HTMLModel",
            "placeholder": "​",
            "_view_module": "@jupyter-widgets/controls",
            "_model_module_version": "1.5.0",
            "value": "Downloading: 100%",
            "_view_count": null,
            "_view_module_version": "1.5.0",
            "description_tooltip": null,
            "_model_module": "@jupyter-widgets/controls",
            "layout": "IPY_MODEL_9fb389cd095d4c78a05788ee1b869d63"
          }
        },
        "1161f37ed684498e9c02968cfc072ab5": {
          "model_module": "@jupyter-widgets/controls",
          "model_name": "FloatProgressModel",
          "model_module_version": "1.5.0",
          "state": {
            "_view_name": "ProgressView",
            "style": "IPY_MODEL_003b0fa5613d485e8da5175899096884",
            "_dom_classes": [],
            "description": "",
            "_model_name": "FloatProgressModel",
            "bar_style": "success",
            "max": 657434796,
            "_view_module": "@jupyter-widgets/controls",
            "_model_module_version": "1.5.0",
            "value": 657434796,
            "_view_count": null,
            "_view_module_version": "1.5.0",
            "orientation": "horizontal",
            "min": 0,
            "description_tooltip": null,
            "_model_module": "@jupyter-widgets/controls",
            "layout": "IPY_MODEL_6366bb8e996a4990a5895a1d87b9cc29"
          }
        },
        "8ce75dffc11a44b0997cddc6454ca8ff": {
          "model_module": "@jupyter-widgets/controls",
          "model_name": "HTMLModel",
          "model_module_version": "1.5.0",
          "state": {
            "_view_name": "HTMLView",
            "style": "IPY_MODEL_0816b497d1ba4214b88a3bbc5388fbbe",
            "_dom_classes": [],
            "description": "",
            "_model_name": "HTMLModel",
            "placeholder": "​",
            "_view_module": "@jupyter-widgets/controls",
            "_model_module_version": "1.5.0",
            "value": " 657M/657M [00:20&lt;00:00, 34.0MB/s]",
            "_view_count": null,
            "_view_module_version": "1.5.0",
            "description_tooltip": null,
            "_model_module": "@jupyter-widgets/controls",
            "layout": "IPY_MODEL_3619dd643a1745e082e99ddee2c11c5b"
          }
        },
        "e213480d951644dd91c2b2e65d9c177a": {
          "model_module": "@jupyter-widgets/controls",
          "model_name": "DescriptionStyleModel",
          "model_module_version": "1.5.0",
          "state": {
            "_view_name": "StyleView",
            "_model_name": "DescriptionStyleModel",
            "description_width": "",
            "_view_module": "@jupyter-widgets/base",
            "_model_module_version": "1.5.0",
            "_view_count": null,
            "_view_module_version": "1.2.0",
            "_model_module": "@jupyter-widgets/controls"
          }
        },
        "9fb389cd095d4c78a05788ee1b869d63": {
          "model_module": "@jupyter-widgets/base",
          "model_name": "LayoutModel",
          "model_module_version": "1.2.0",
          "state": {
            "_view_name": "LayoutView",
            "grid_template_rows": null,
            "right": null,
            "justify_content": null,
            "_view_module": "@jupyter-widgets/base",
            "overflow": null,
            "_model_module_version": "1.2.0",
            "_view_count": null,
            "flex_flow": null,
            "width": null,
            "min_width": null,
            "border": null,
            "align_items": null,
            "bottom": null,
            "_model_module": "@jupyter-widgets/base",
            "top": null,
            "grid_column": null,
            "overflow_y": null,
            "overflow_x": null,
            "grid_auto_flow": null,
            "grid_area": null,
            "grid_template_columns": null,
            "flex": null,
            "_model_name": "LayoutModel",
            "justify_items": null,
            "grid_row": null,
            "max_height": null,
            "align_content": null,
            "visibility": null,
            "align_self": null,
            "height": null,
            "min_height": null,
            "padding": null,
            "grid_auto_rows": null,
            "grid_gap": null,
            "max_width": null,
            "order": null,
            "_view_module_version": "1.2.0",
            "grid_template_areas": null,
            "object_position": null,
            "object_fit": null,
            "grid_auto_columns": null,
            "margin": null,
            "display": null,
            "left": null
          }
        },
        "003b0fa5613d485e8da5175899096884": {
          "model_module": "@jupyter-widgets/controls",
          "model_name": "ProgressStyleModel",
          "model_module_version": "1.5.0",
          "state": {
            "_view_name": "StyleView",
            "_model_name": "ProgressStyleModel",
            "description_width": "",
            "_view_module": "@jupyter-widgets/base",
            "_model_module_version": "1.5.0",
            "_view_count": null,
            "_view_module_version": "1.2.0",
            "bar_color": null,
            "_model_module": "@jupyter-widgets/controls"
          }
        },
        "6366bb8e996a4990a5895a1d87b9cc29": {
          "model_module": "@jupyter-widgets/base",
          "model_name": "LayoutModel",
          "model_module_version": "1.2.0",
          "state": {
            "_view_name": "LayoutView",
            "grid_template_rows": null,
            "right": null,
            "justify_content": null,
            "_view_module": "@jupyter-widgets/base",
            "overflow": null,
            "_model_module_version": "1.2.0",
            "_view_count": null,
            "flex_flow": null,
            "width": null,
            "min_width": null,
            "border": null,
            "align_items": null,
            "bottom": null,
            "_model_module": "@jupyter-widgets/base",
            "top": null,
            "grid_column": null,
            "overflow_y": null,
            "overflow_x": null,
            "grid_auto_flow": null,
            "grid_area": null,
            "grid_template_columns": null,
            "flex": null,
            "_model_name": "LayoutModel",
            "justify_items": null,
            "grid_row": null,
            "max_height": null,
            "align_content": null,
            "visibility": null,
            "align_self": null,
            "height": null,
            "min_height": null,
            "padding": null,
            "grid_auto_rows": null,
            "grid_gap": null,
            "max_width": null,
            "order": null,
            "_view_module_version": "1.2.0",
            "grid_template_areas": null,
            "object_position": null,
            "object_fit": null,
            "grid_auto_columns": null,
            "margin": null,
            "display": null,
            "left": null
          }
        },
        "0816b497d1ba4214b88a3bbc5388fbbe": {
          "model_module": "@jupyter-widgets/controls",
          "model_name": "DescriptionStyleModel",
          "model_module_version": "1.5.0",
          "state": {
            "_view_name": "StyleView",
            "_model_name": "DescriptionStyleModel",
            "description_width": "",
            "_view_module": "@jupyter-widgets/base",
            "_model_module_version": "1.5.0",
            "_view_count": null,
            "_view_module_version": "1.2.0",
            "_model_module": "@jupyter-widgets/controls"
          }
        },
        "3619dd643a1745e082e99ddee2c11c5b": {
          "model_module": "@jupyter-widgets/base",
          "model_name": "LayoutModel",
          "model_module_version": "1.2.0",
          "state": {
            "_view_name": "LayoutView",
            "grid_template_rows": null,
            "right": null,
            "justify_content": null,
            "_view_module": "@jupyter-widgets/base",
            "overflow": null,
            "_model_module_version": "1.2.0",
            "_view_count": null,
            "flex_flow": null,
            "width": null,
            "min_width": null,
            "border": null,
            "align_items": null,
            "bottom": null,
            "_model_module": "@jupyter-widgets/base",
            "top": null,
            "grid_column": null,
            "overflow_y": null,
            "overflow_x": null,
            "grid_auto_flow": null,
            "grid_area": null,
            "grid_template_columns": null,
            "flex": null,
            "_model_name": "LayoutModel",
            "justify_items": null,
            "grid_row": null,
            "max_height": null,
            "align_content": null,
            "visibility": null,
            "align_self": null,
            "height": null,
            "min_height": null,
            "padding": null,
            "grid_auto_rows": null,
            "grid_gap": null,
            "max_width": null,
            "order": null,
            "_view_module_version": "1.2.0",
            "grid_template_areas": null,
            "object_position": null,
            "object_fit": null,
            "grid_auto_columns": null,
            "margin": null,
            "display": null,
            "left": null
          }
        }
      }
    }
  },
  "cells": [
    {
      "cell_type": "markdown",
      "metadata": {
        "id": "sMEEa2sQINVQ"
      },
      "source": [
        "# Preprocessing\n",
        "* drop subject\n",
        "* drop date\n",
        "* remove duplicate\n",
        "* remove twitter tags\n",
        "* remove header\n",
        "* drop missing text\n",
        "* delete real news tags, reduce capital in fake news\n",
        "* delete frequent occuring words\n"
      ]
    },
    {
      "cell_type": "code",
      "metadata": {
        "colab": {
          "base_uri": "https://localhost:8080/"
        },
        "id": "FXxf7rD_FfWD",
        "outputId": "a0a36982-2ecf-4386-a063-d1a3bc4ccf6f"
      },
      "source": [
        "import pandas as pd\n",
        "import string\n",
        "import re\n",
        "import nltk\n",
        "from nltk.tokenize import word_tokenize\n",
        "from nltk.corpus import stopwords\n",
        "nltk.download('punkt')\n",
        "nltk.download('stopwords')\n",
        "nltk.download('wordnet')\n",
        "\n",
        "\n",
        "df_train = pd.read_csv('https://raw.githubusercontent.com/joshuasir/dl-project/main/datasets/news-train-data.csv')\n",
        "df_unseen = pd.read_csv('https://raw.githubusercontent.com/joshuasir/dl-project/main/datasets/news-unseen-data.csv')\n",
        "\n",
        "# this datasets is already added 4702 from https://www.kaggle.com/mrisdal/fake-news.\n",
        "# the pure datasets is in https://raw.githubusercontent.com/joshuasir/datasets/master/news-train-data.csv \n",
        "# and https://raw.githubusercontent.com/joshuasir/datasets/master/news-test-data.csv taken from https://www.kaggle.com/clmentbisaillon/fake-and-real-news-dataset"
      ],
      "execution_count": null,
      "outputs": [
        {
          "output_type": "stream",
          "name": "stdout",
          "text": [
            "[nltk_data] Downloading package punkt to /root/nltk_data...\n",
            "[nltk_data]   Package punkt is already up-to-date!\n",
            "[nltk_data] Downloading package stopwords to /root/nltk_data...\n",
            "[nltk_data]   Package stopwords is already up-to-date!\n",
            "[nltk_data] Downloading package wordnet to /root/nltk_data...\n",
            "[nltk_data]   Package wordnet is already up-to-date!\n"
          ]
        }
      ]
    },
    {
      "cell_type": "code",
      "metadata": {
        "id": "xaK8NK9fjPoL"
      },
      "source": [
        "df_train1 = pd.read_csv('https://raw.githubusercontent.com/joshuasir/datasets/master/news-train-data.csv')\n",
        "df_unseen1 = pd.read_csv('https://raw.githubusercontent.com/joshuasir/datasets/master/news-test-data.csv')"
      ],
      "execution_count": null,
      "outputs": []
    },
    {
      "cell_type": "code",
      "metadata": {
        "colab": {
          "base_uri": "https://localhost:8080/"
        },
        "id": "Ptxq_aZpjSCw",
        "outputId": "34f97d26-551c-488b-dc5c-d33f513d944f"
      },
      "source": [
        "df_train.append(df_unseen)[df_train.append(df_unseen)['text'].isin(df_train1.append(df_unseen1)['text'])]['validity'].value_counts()"
      ],
      "execution_count": null,
      "outputs": [
        {
          "output_type": "execute_result",
          "data": {
            "text/plain": [
              "0    23483\n",
              "1    21417\n",
              "Name: validity, dtype: int64"
            ]
          },
          "metadata": {},
          "execution_count": 74
        }
      ]
    },
    {
      "cell_type": "code",
      "metadata": {
        "colab": {
          "base_uri": "https://localhost:8080/"
        },
        "id": "84MpAAxEjTTg",
        "outputId": "b4bf6610-1203-4ca4-e885-d71f1922021e"
      },
      "source": [
        "df_train.append(df_unseen)['validity'].value_counts()"
      ],
      "execution_count": null,
      "outputs": [
        {
          "output_type": "execute_result",
          "data": {
            "text/plain": [
              "0    28183\n",
              "1    21417\n",
              "Name: validity, dtype: int64"
            ]
          },
          "metadata": {},
          "execution_count": 75
        }
      ]
    },
    {
      "cell_type": "code",
      "metadata": {
        "id": "OyHdzxXQ1RUv"
      },
      "source": [
        "df_train.drop_duplicates(subset='text',inplace=True,ignore_index=True)\n",
        "df_train.drop_duplicates(subset='title',inplace=True,ignore_index=True)\n",
        "\n",
        "df_unseen.drop_duplicates(subset='text',inplace=True,ignore_index=True)\n",
        "df_unseen.drop_duplicates(subset='title',inplace=True,ignore_index=True)"
      ],
      "execution_count": null,
      "outputs": []
    },
    {
      "cell_type": "code",
      "metadata": {
        "id": "AgB24HNqKT3z"
      },
      "source": [
        "df_train['text'] = [x.split(' (Reuters) -',1)[-1] for x in df_train['text'] if x.split(' (Reuters) -',1)[1:] is not ''  ]\n",
        "df_unseen['text'] = [x.split(' (Reuters) -',1)[-1] for x in df_unseen['text'] if x.split(' (Reuters) -',1)[1:] is not ''  ]"
      ],
      "execution_count": null,
      "outputs": []
    },
    {
      "cell_type": "code",
      "metadata": {
        "id": "RnT6C2iTAqfx"
      },
      "source": [
        "df_train['title'] = df_train['title'].apply(lambda x : ' '.join(re.sub(\"(@[A-Za-z0-9]+)|([^0-9A-Za-z \\t])|(\\w+:\\/\\/\\S+)\",\" \",x).split()))\n",
        "df_unseen['title'] = df_unseen['title'].apply(lambda x : ' '.join(re.sub(\"(@[A-Za-z0-9]+)|([^0-9A-Za-z \\t])|(\\w+:\\/\\/\\S+)\",\" \",x).split()))\n",
        "\n",
        "df_train['text'] = df_train['text'].apply(lambda x : ' '.join(re.sub(\"(@[A-Za-z0-9]+)|([^0-9A-Za-z \\t])|(\\w+:\\/\\/\\S+)\",\" \",x).split()))\n",
        "df_unseen['text'] = df_unseen['text'].apply(lambda x : ' '.join(re.sub(\"(@[A-Za-z0-9]+)|([^0-9A-Za-z \\t])|(\\w+:\\/\\/\\S+)\",\" \",x).split()))"
      ],
      "execution_count": null,
      "outputs": []
    },
    {
      "cell_type": "code",
      "metadata": {
        "id": "v09VefmfGzTk"
      },
      "source": [
        "# df_train.drop(columns=['subject','date'],inplace=True)\n",
        "# df_unseen.drop(columns=['subject','date'],inplace=True)"
      ],
      "execution_count": null,
      "outputs": []
    },
    {
      "cell_type": "code",
      "metadata": {
        "id": "ZtVPgivRJxKY"
      },
      "source": [
        "df_train.drop(index=df_train.loc[(df_train.text.str.strip(' ') == '') ,'validity'].index,inplace=True)\n",
        "df_unseen.drop(index=df_unseen.loc[(df_unseen.text.str.strip(' ') == '') ,'validity'].index,inplace=True)"
      ],
      "execution_count": null,
      "outputs": []
    },
    {
      "cell_type": "code",
      "metadata": {
        "id": "cRbsOGPHKiuU"
      },
      "source": [
        "df_train['title'] = df_train['title'].str.title()\n",
        "df_unseen['title'] = df_unseen['title'].str.title()\n",
        "\n",
        "df_train['text'] = df_train['title'].str.lower()\n",
        "df_unseen['text'] = df_unseen['title'].str.lower()"
      ],
      "execution_count": null,
      "outputs": []
    },
    {
      "cell_type": "code",
      "metadata": {
        "id": "FfX3MXBiTeuk"
      },
      "source": [
        "df_train['text'] = df_train['title'] + ' - ' + df_train['text']\n",
        "df_unseen['text'] = df_unseen['title'] + ' - ' + df_unseen['text']"
      ],
      "execution_count": null,
      "outputs": []
    },
    {
      "cell_type": "code",
      "metadata": {
        "colab": {
          "base_uri": "https://localhost:8080/",
          "height": 204
        },
        "id": "kRh7_RIBKo3-",
        "outputId": "3538a9ba-130f-4650-f5d2-4f3ddd4830cb"
      },
      "source": [
        "df_train.head()"
      ],
      "execution_count": null,
      "outputs": [
        {
          "output_type": "execute_result",
          "data": {
            "text/html": [
              "<div>\n",
              "<style scoped>\n",
              "    .dataframe tbody tr th:only-of-type {\n",
              "        vertical-align: middle;\n",
              "    }\n",
              "\n",
              "    .dataframe tbody tr th {\n",
              "        vertical-align: top;\n",
              "    }\n",
              "\n",
              "    .dataframe thead th {\n",
              "        text-align: right;\n",
              "    }\n",
              "</style>\n",
              "<table border=\"1\" class=\"dataframe\">\n",
              "  <thead>\n",
              "    <tr style=\"text-align: right;\">\n",
              "      <th></th>\n",
              "      <th>title</th>\n",
              "      <th>text</th>\n",
              "      <th>validity</th>\n",
              "    </tr>\n",
              "  </thead>\n",
              "  <tbody>\n",
              "    <tr>\n",
              "      <th>0</th>\n",
              "      <td>Lawmakers To Go To Cuba With Obama Who Mulls M...</td>\n",
              "      <td>Lawmakers To Go To Cuba With Obama Who Mulls M...</td>\n",
              "      <td>1</td>\n",
              "    </tr>\n",
              "    <tr>\n",
              "      <th>1</th>\n",
              "      <td>Benjamin Netanyahu Just Snubbed Obama Again An...</td>\n",
              "      <td>Benjamin Netanyahu Just Snubbed Obama Again An...</td>\n",
              "      <td>0</td>\n",
              "    </tr>\n",
              "    <tr>\n",
              "      <th>2</th>\n",
              "      <td>Thousands Protest In London Against Trump S Re...</td>\n",
              "      <td>Thousands Protest In London Against Trump S Re...</td>\n",
              "      <td>1</td>\n",
              "    </tr>\n",
              "    <tr>\n",
              "      <th>3</th>\n",
              "      <td>Video White House Says Obama S Strategy Agains...</td>\n",
              "      <td>Video White House Says Obama S Strategy Agains...</td>\n",
              "      <td>0</td>\n",
              "    </tr>\n",
              "    <tr>\n",
              "      <th>4</th>\n",
              "      <td>Squeaky Clean Zurich S Trash Department Probed...</td>\n",
              "      <td>Squeaky Clean Zurich S Trash Department Probed...</td>\n",
              "      <td>1</td>\n",
              "    </tr>\n",
              "  </tbody>\n",
              "</table>\n",
              "</div>"
            ],
            "text/plain": [
              "                                               title  ... validity\n",
              "0  Lawmakers To Go To Cuba With Obama Who Mulls M...  ...        1\n",
              "1  Benjamin Netanyahu Just Snubbed Obama Again An...  ...        0\n",
              "2  Thousands Protest In London Against Trump S Re...  ...        1\n",
              "3  Video White House Says Obama S Strategy Agains...  ...        0\n",
              "4  Squeaky Clean Zurich S Trash Department Probed...  ...        1\n",
              "\n",
              "[5 rows x 3 columns]"
            ]
          },
          "metadata": {},
          "execution_count": 11
        }
      ]
    },
    {
      "cell_type": "code",
      "metadata": {
        "id": "fi-MpbE3m31-"
      },
      "source": [
        "df_train['text'] = df_train['text'].str.replace('https?:\\/\\/.*[\\r\\n]*', '')\n",
        "df_train['text'] = df_train['text'].str.normalize('NFKD').str.encode('ascii', errors='ignore').str.decode('utf-8')\n",
        "df_train['text'] = df_train['text'].str.replace('\\d+', '')\n",
        "df_train['text'] = df_train['text'].str.replace('[^\\w\\s]', '')\n",
        "\n",
        "df_unseen['text'] = df_unseen['text'].str.replace('https?:\\/\\/.*[\\r\\n]*', '')\n",
        "df_unseen['text'] = df_unseen['text'].str.normalize('NFKD').str.encode('ascii', errors='ignore').str.decode('utf-8')\n",
        "df_unseen['text'] = df_unseen['text'].str.replace('\\d+', '')\n",
        "df_unseen['text'] = df_unseen['text'].str.replace('[^\\w\\s]', '')"
      ],
      "execution_count": null,
      "outputs": []
    },
    {
      "cell_type": "code",
      "metadata": {
        "id": "uFNb39HYnVHy"
      },
      "source": [
        "df_train['title'] = df_train['title'].str.replace('https?:\\/\\/.*[\\r\\n]*', '')\n",
        "df_train['title'] = df_train['title'].str.normalize('NFKD').str.encode('ascii', errors='ignore').str.decode('utf-8')\n",
        "df_train['title'] = df_train['title'].str.replace('\\d+', '')\n",
        "df_train['title'] = df_train['title'].str.replace('[^\\w\\s]', '')\n",
        "\n",
        "df_unseen['title'] = df_unseen['title'].str.replace('https?:\\/\\/.*[\\r\\n]*', '')\n",
        "df_unseen['title'] = df_unseen['title'].str.normalize('NFKD').str.encode('ascii', errors='ignore').str.decode('utf-8')\n",
        "df_unseen['title'] = df_unseen['title'].str.replace('\\d+', '')\n",
        "df_unseen['title'] = df_unseen['title'].str.replace('[^\\w\\s]', '')"
      ],
      "execution_count": null,
      "outputs": []
    },
    {
      "cell_type": "code",
      "metadata": {
        "id": "Xsn5fXK60Fnw"
      },
      "source": [
        "df_train['text'].replace('Reuters','',inplace=True)\n",
        "df_unseen['text'].replace('Reuters','',inplace=True)\n",
        "\n",
        "df_train['text'].replace('21st Century Wire','',inplace=True)\n",
        "df_unseen['text'].replace('21st Century Wire','',inplace=True)\n",
        "\n",
        "df_train['title'].replace('White House','',inplace=True)\n",
        "df_unseen['title'].replace('White House','',inplace=True)\n",
        "\n",
        "df_train['title'].replace('North Korea','',inplace=True)\n",
        "df_unseen['title'].replace('North Korea','',inplace=True)\n",
        "\n",
        "\n",
        "df_train['title'].replace('Video','',inplace=True)\n",
        "df_unseen['title'].replace('Video','',inplace=True)\n",
        "\n",
        "df_train['title'].replace('Trump','',inplace=True)\n",
        "df_unseen['title'].replace('Trump','',inplace=True)\n",
        "\n",
        "df_train['title'].replace('Fox News','',inplace=True)\n",
        "df_unseen['title'].replace('Fox News','',inplace=True)"
      ],
      "execution_count": null,
      "outputs": []
    },
    {
      "cell_type": "code",
      "metadata": {
        "id": "riU3vb51Ccp1"
      },
      "source": [
        "contractions_dict = { \"ain’t\": \"are not\", \"’s\":\" is\", \"aren’t\": \"are not\", \"can’t\": \"cannot\", \"can’t’ve\": \"cannot have\", \"‘cause\": \"because\", \"could’ve\": \"could have\", \"couldn’t\": \"could not\", \"couldn’t’ve\": \"could not have\", \"didn’t\": \"did not\", \"doesn’t\": \"does not\", \"don’t\": \"do not\", \"hadn’t\": \"had not\", \"hadn’t’ve\": \"had not have\", \"hasn’t\": \"has not\", \"haven’t\": \"have not\", \"he’d\": \"he would\", \"he’d’ve\": \"he would have\", \"he’ll\": \"he will\", \"he’ll’ve\": \"he will have\", \"how’d\": \"how did\", \"how’d’y\": \"how do you\", \"how’ll\": \"how will\", \"I’d\": \"I would\", \"I’d’ve\": \"I would have\", \"I’ll\": \"I will\", \"I’ll’ve\": \"I will have\", \"I’m\": \"I am\", \"I’ve\": \"I have\", \"isn’t\": \"is not\", \"it’d\": \"it would\", \"it’d’ve\": \"it would have\", \"it’ll\": \"it will\", \"it’ll’ve\": \"it will have\", \"let’s\": \"let us\", \"ma’am\": \"madam\", \"mayn’t\": \"may not\", \"might’ve\": \"might have\", \"mightn’t\": \"might not\", \"mightn’t’ve\": \"might not have\", \"must’ve\": \"must have\", \"mustn’t\": \"must not\", \"mustn’t’ve\": \"must not have\", \"needn’t\": \"need not\", \"needn’t’ve\": \"need not have\", \"o’clock\": \"of the clock\", \"oughtn’t\": \"ought not\", \"oughtn’t’ve\": \"ought not have\", \"shan’t\": \"shall not\", \"sha’n’t\": \"shall not\", \"shan’t’ve\": \"shall not have\", \"she’d\": \"she would\", \"she’d’ve\": \"she would have\", \"she’ll\": \"she will\", \"she’ll’ve\": \"she will have\", \"should’ve\": \"should have\", \"shouldn’t\": \"should not\", \"shouldn’t’ve\": \"should not have\", \"so’ve\": \"so have\", \"that’d\": \"that would\", \"that’d’ve\": \"that would have\", \"there’d\": \"there would\", \"there’d’ve\": \"there would have\", \"they’d\": \"they would\", \"they’d’ve\": \"they would have\",\"they’ll\": \"they will\",\n",
        " \"they’ll’ve\": \"they will have\", \"they’re\": \"they are\", \"they’ve\": \"they have\", \"to’ve\": \"to have\", \"wasn’t\": \"was not\", \"we’d\": \"we would\", \"we’d’ve\": \"we would have\", \"we’ll\": \"we will\", \"we’ll’ve\": \"we will have\", \"we’re\": \"we are\", \"we’ve\": \"we have\", \"weren’t\": \"were not\",\"what’ll\": \"what will\", \"what’ll’ve\": \"what will have\", \"what’re\": \"what are\", \"what’ve\": \"what have\", \"when’ve\": \"when have\", \"where’d\": \"where did\", \"where’ve\": \"where have\", \"i'm\" : \"i am\",\"there's\":\"there is\",\"i've\":\"i have\",\"what's\":\"what is\",\"can't\":\"can not\",\"don't\":\"do not\",\"i'll\":\"i will\",\"we're\":\"we are\",\"it's\":\"it is\",\"yr\":\"year\",\n",
        " \"who’ll\": \"who will\", \"who’ll’ve\": \"who will have\", \"who’ve\": \"who have\", \"why’ve\": \"why have\", \"will’ve\": \"will have\", \"won’t\": \"will not\", \"won’t’ve\": \"will not have\", \"would’ve\": \"would have\", \"wouldn’t\": \"would not\", \"wouldn’t’ve\": \"would not have\", \"y’all\": \"you all\", \"y’all’d\": \"you all would\", \"y’all’d’ve\": \"you all would have\", \"y’all’re\": \"you all are\", \"y’all’ve\": \"you all have\", \"you’d\": \"you would\", \"you’d’ve\": \"you would have\", \"you’ll\": \"you will\", \"you’ll’ve\": \"you will have\", \"you’re\": \"you are\", \"you’ve\": \"you have\"}"
      ],
      "execution_count": null,
      "outputs": []
    },
    {
      "cell_type": "code",
      "metadata": {
        "id": "Dp51ip6TCvWn"
      },
      "source": [
        "import re\n",
        "contractions_re = re.compile('(%s)'%'|'.join(contractions_dict.keys()))\n",
        "def expand_contractions(s, contractions_dict=contractions_dict):\n",
        "  def replace(match):\n",
        "    return contractions_dict[match.group(0)]\n",
        "  return contractions_re.sub(replace, s)\n",
        "\n",
        "\n",
        "df_train['title'] = df_train['title'].apply(expand_contractions)\n",
        "df_unseen['title'] = df_unseen['title'].apply(expand_contractions)\n",
        "\n",
        "\n",
        "df_train['text'] = df_train['text'].apply(expand_contractions)\n",
        "df_unseen['text'] = df_unseen['text'].apply(expand_contractions)"
      ],
      "execution_count": null,
      "outputs": []
    },
    {
      "cell_type": "code",
      "metadata": {
        "colab": {
          "base_uri": "https://localhost:8080/",
          "height": 204
        },
        "id": "Q9PQGpU4YQaD",
        "outputId": "810e1d80-3640-4bfc-9dbd-bfad01634773"
      },
      "source": [
        "df_train.head()"
      ],
      "execution_count": null,
      "outputs": [
        {
          "output_type": "execute_result",
          "data": {
            "text/html": [
              "<div>\n",
              "<style scoped>\n",
              "    .dataframe tbody tr th:only-of-type {\n",
              "        vertical-align: middle;\n",
              "    }\n",
              "\n",
              "    .dataframe tbody tr th {\n",
              "        vertical-align: top;\n",
              "    }\n",
              "\n",
              "    .dataframe thead th {\n",
              "        text-align: right;\n",
              "    }\n",
              "</style>\n",
              "<table border=\"1\" class=\"dataframe\">\n",
              "  <thead>\n",
              "    <tr style=\"text-align: right;\">\n",
              "      <th></th>\n",
              "      <th>title</th>\n",
              "      <th>text</th>\n",
              "      <th>validity</th>\n",
              "    </tr>\n",
              "  </thead>\n",
              "  <tbody>\n",
              "    <tr>\n",
              "      <th>0</th>\n",
              "      <td>U S Sen Warren Predicts Appeal In Legal Battle...</td>\n",
              "      <td>U S Sen Warren Predicts Appeal In Legal Battle...</td>\n",
              "      <td>1</td>\n",
              "    </tr>\n",
              "    <tr>\n",
              "      <th>1</th>\n",
              "      <td>Barbaric Bullies Set Disabled Year Old Boy On ...</td>\n",
              "      <td>Barbaric Bullies Set Disabled Year Old Boy On ...</td>\n",
              "      <td>0</td>\n",
              "    </tr>\n",
              "    <tr>\n",
              "      <th>2</th>\n",
              "      <td>Zimbabwe Opposition Leader Baffled By Mugabe D...</td>\n",
              "      <td>Zimbabwe Opposition Leader Baffled By Mugabe D...</td>\n",
              "      <td>1</td>\n",
              "    </tr>\n",
              "    <tr>\n",
              "      <th>3</th>\n",
              "      <td>Boom Harvard Law Democrat Alan Dershowitz Dest...</td>\n",
              "      <td>Boom Harvard Law Democrat Alan Dershowitz Dest...</td>\n",
              "      <td>0</td>\n",
              "    </tr>\n",
              "    <tr>\n",
              "      <th>4</th>\n",
              "      <td>Update On Beating Of White Cop Black Man Steal...</td>\n",
              "      <td>Update On Beating Of White Cop Black Man Steal...</td>\n",
              "      <td>0</td>\n",
              "    </tr>\n",
              "  </tbody>\n",
              "</table>\n",
              "</div>"
            ],
            "text/plain": [
              "                                               title  ... validity\n",
              "0  U S Sen Warren Predicts Appeal In Legal Battle...  ...        1\n",
              "1  Barbaric Bullies Set Disabled Year Old Boy On ...  ...        0\n",
              "2  Zimbabwe Opposition Leader Baffled By Mugabe D...  ...        1\n",
              "3  Boom Harvard Law Democrat Alan Dershowitz Dest...  ...        0\n",
              "4  Update On Beating Of White Cop Black Man Steal...  ...        0\n",
              "\n",
              "[5 rows x 3 columns]"
            ]
          },
          "metadata": {},
          "execution_count": 226
        }
      ]
    },
    {
      "cell_type": "code",
      "metadata": {
        "id": "sKOEYUj-Nzao"
      },
      "source": [
        "library = pd.read_csv('https://raw.githubusercontent.com/MichaelLLi/Text_Normalization/master/Data/plain_trans.csv')[['before','after']].set_index('before').to_dict()['after']"
      ],
      "execution_count": null,
      "outputs": []
    },
    {
      "cell_type": "code",
      "metadata": {
        "id": "QzjDMo8ROiFy"
      },
      "source": [
        "for key,value in library.items():\n",
        "  df_train['text'].replace(key,value)\n",
        "  df_train['title'].replace(key,value)\n",
        "  df_unseen['text'].replace(key,value)\n",
        "  df_unseen['title'].replace(key,value)"
      ],
      "execution_count": null,
      "outputs": []
    },
    {
      "cell_type": "code",
      "metadata": {
        "id": "L6Qh3UOJMVJG"
      },
      "source": [
        "df_train.to_csv('news-train-clean.csv')\n",
        "df_unseen.to_csv('news-unseen-clean.csv')"
      ],
      "execution_count": null,
      "outputs": []
    },
    {
      "cell_type": "markdown",
      "metadata": {
        "id": "wvrLffD0utIi"
      },
      "source": [
        " # Modeling"
      ]
    },
    {
      "cell_type": "code",
      "metadata": {
        "id": "cSy64mgOMdQV"
      },
      "source": [
        "df_train = pd.read_csv('/content/news-train-clean.csv')\n",
        "df_unseen = pd.read_csv('/content/news-unseen-clean.csv')"
      ],
      "execution_count": null,
      "outputs": []
    },
    {
      "cell_type": "code",
      "metadata": {
        "colab": {
          "base_uri": "https://localhost:8080/"
        },
        "id": "eAKLw4Ggqx29",
        "outputId": "5a1137cd-d5b2-415c-8c69-e2438e26c97f"
      },
      "source": [
        "!pip install transformers"
      ],
      "execution_count": null,
      "outputs": [
        {
          "output_type": "stream",
          "name": "stdout",
          "text": [
            "Collecting transformers\n",
            "  Downloading transformers-4.10.2-py3-none-any.whl (2.8 MB)\n",
            "\u001b[K     |████████████████████████████████| 2.8 MB 10.7 MB/s \n",
            "\u001b[?25hRequirement already satisfied: requests in /usr/local/lib/python3.7/dist-packages (from transformers) (2.23.0)\n",
            "Requirement already satisfied: numpy>=1.17 in /usr/local/lib/python3.7/dist-packages (from transformers) (1.19.5)\n",
            "Requirement already satisfied: regex!=2019.12.17 in /usr/local/lib/python3.7/dist-packages (from transformers) (2019.12.20)\n",
            "Requirement already satisfied: packaging in /usr/local/lib/python3.7/dist-packages (from transformers) (21.0)\n",
            "Collecting pyyaml>=5.1\n",
            "  Downloading PyYAML-5.4.1-cp37-cp37m-manylinux1_x86_64.whl (636 kB)\n",
            "\u001b[K     |████████████████████████████████| 636 kB 32.6 MB/s \n",
            "\u001b[?25hRequirement already satisfied: tqdm>=4.27 in /usr/local/lib/python3.7/dist-packages (from transformers) (4.62.0)\n",
            "Requirement already satisfied: filelock in /usr/local/lib/python3.7/dist-packages (from transformers) (3.0.12)\n",
            "Requirement already satisfied: importlib-metadata in /usr/local/lib/python3.7/dist-packages (from transformers) (4.6.4)\n",
            "Collecting huggingface-hub>=0.0.12\n",
            "  Downloading huggingface_hub-0.0.16-py3-none-any.whl (50 kB)\n",
            "\u001b[K     |████████████████████████████████| 50 kB 6.2 MB/s \n",
            "\u001b[?25hCollecting sacremoses\n",
            "  Downloading sacremoses-0.0.45-py3-none-any.whl (895 kB)\n",
            "\u001b[K     |████████████████████████████████| 895 kB 40.7 MB/s \n",
            "\u001b[?25hCollecting tokenizers<0.11,>=0.10.1\n",
            "  Downloading tokenizers-0.10.3-cp37-cp37m-manylinux_2_5_x86_64.manylinux1_x86_64.manylinux_2_12_x86_64.manylinux2010_x86_64.whl (3.3 MB)\n",
            "\u001b[K     |████████████████████████████████| 3.3 MB 39.3 MB/s \n",
            "\u001b[?25hRequirement already satisfied: typing-extensions in /usr/local/lib/python3.7/dist-packages (from huggingface-hub>=0.0.12->transformers) (3.7.4.3)\n",
            "Requirement already satisfied: pyparsing>=2.0.2 in /usr/local/lib/python3.7/dist-packages (from packaging->transformers) (2.4.7)\n",
            "Requirement already satisfied: zipp>=0.5 in /usr/local/lib/python3.7/dist-packages (from importlib-metadata->transformers) (3.5.0)\n",
            "Requirement already satisfied: chardet<4,>=3.0.2 in /usr/local/lib/python3.7/dist-packages (from requests->transformers) (3.0.4)\n",
            "Requirement already satisfied: idna<3,>=2.5 in /usr/local/lib/python3.7/dist-packages (from requests->transformers) (2.10)\n",
            "Requirement already satisfied: urllib3!=1.25.0,!=1.25.1,<1.26,>=1.21.1 in /usr/local/lib/python3.7/dist-packages (from requests->transformers) (1.24.3)\n",
            "Requirement already satisfied: certifi>=2017.4.17 in /usr/local/lib/python3.7/dist-packages (from requests->transformers) (2021.5.30)\n",
            "Requirement already satisfied: joblib in /usr/local/lib/python3.7/dist-packages (from sacremoses->transformers) (1.0.1)\n",
            "Requirement already satisfied: six in /usr/local/lib/python3.7/dist-packages (from sacremoses->transformers) (1.15.0)\n",
            "Requirement already satisfied: click in /usr/local/lib/python3.7/dist-packages (from sacremoses->transformers) (7.1.2)\n",
            "Installing collected packages: tokenizers, sacremoses, pyyaml, huggingface-hub, transformers\n",
            "  Attempting uninstall: pyyaml\n",
            "    Found existing installation: PyYAML 3.13\n",
            "    Uninstalling PyYAML-3.13:\n",
            "      Successfully uninstalled PyYAML-3.13\n",
            "Successfully installed huggingface-hub-0.0.16 pyyaml-5.4.1 sacremoses-0.0.45 tokenizers-0.10.3 transformers-4.10.2\n"
          ]
        }
      ]
    },
    {
      "cell_type": "code",
      "metadata": {
        "id": "BR_vPSNSqzX2"
      },
      "source": [
        "import tensorflow as tf\n",
        "from transformers import TFBertForSequenceClassification, TFRobertaForSequenceClassification, BertTokenizer,RobertaTokenizer\n",
        "from sklearn.metrics import confusion_matrix, classification_report\n",
        "import seaborn as sns\n",
        "import matplotlib.pyplot as plt\n",
        "import numpy as np\n",
        "import pandas as pd\n",
        "from sklearn.model_selection import train_test_split\n",
        "from sklearn.metrics import classification_report"
      ],
      "execution_count": null,
      "outputs": []
    },
    {
      "cell_type": "code",
      "metadata": {
        "id": "P1cEKsbzpljZ"
      },
      "source": [
        "X = df_train.copy()\n",
        "y = X.pop('validity')\n",
        "\n",
        "X_train,X_valid,y_train,y_valid = train_test_split(X,y,stratify=y,test_size=.3)"
      ],
      "execution_count": null,
      "outputs": []
    },
    {
      "cell_type": "code",
      "metadata": {
        "id": "rF4UGWYvpoKH"
      },
      "source": [
        "X_unseen = df_unseen.copy()\n",
        "y_unseen = X_unseen.pop('validity')"
      ],
      "execution_count": null,
      "outputs": []
    },
    {
      "cell_type": "code",
      "metadata": {
        "colab": {
          "base_uri": "https://localhost:8080/"
        },
        "id": "9ASoN_5uTrT8",
        "outputId": "d0e85640-be76-463a-a922-e5c2285947fb"
      },
      "source": [
        "y_train.value_counts()"
      ],
      "execution_count": null,
      "outputs": [
        {
          "output_type": "execute_result",
          "data": {
            "text/plain": [
              "0    11494\n",
              "1    10289\n",
              "Name: validity, dtype: int64"
            ]
          },
          "metadata": {},
          "execution_count": 59
        }
      ]
    },
    {
      "cell_type": "code",
      "metadata": {
        "id": "dRb0dPqlpp8t",
        "colab": {
          "base_uri": "https://localhost:8080/"
        },
        "outputId": "89debfcd-1b80-4e2f-d715-623c639b5b39"
      },
      "source": [
        "from sklearn.pipeline import Pipeline\n",
        "from sklearn.feature_extraction.text import TfidfTransformer,CountVectorizer\n",
        "from sklearn.naive_bayes import MultinomialNB\n",
        "from sklearn.linear_model import LogisticRegression\n",
        "\n",
        "text_clf = Pipeline([\n",
        "    ('vect', CountVectorizer()),\n",
        "    ('tfidf', TfidfTransformer()),\n",
        "    ('clf', MultinomialNB()),\n",
        "])\n",
        "\n",
        "text_clf.fit(X_train['text'],y_train)"
      ],
      "execution_count": null,
      "outputs": [
        {
          "output_type": "execute_result",
          "data": {
            "text/plain": [
              "Pipeline(memory=None,\n",
              "         steps=[('vect',\n",
              "                 CountVectorizer(analyzer='word', binary=False,\n",
              "                                 decode_error='strict',\n",
              "                                 dtype=<class 'numpy.int64'>, encoding='utf-8',\n",
              "                                 input='content', lowercase=True, max_df=1.0,\n",
              "                                 max_features=None, min_df=1,\n",
              "                                 ngram_range=(1, 1), preprocessor=None,\n",
              "                                 stop_words=None, strip_accents=None,\n",
              "                                 token_pattern='(?u)\\\\b\\\\w\\\\w+\\\\b',\n",
              "                                 tokenizer=None, vocabulary=None)),\n",
              "                ('tfidf',\n",
              "                 TfidfTransformer(norm='l2', smooth_idf=True,\n",
              "                                  sublinear_tf=False, use_idf=True)),\n",
              "                ('clf',\n",
              "                 MultinomialNB(alpha=1.0, class_prior=None, fit_prior=True))],\n",
              "         verbose=False)"
            ]
          },
          "metadata": {},
          "execution_count": 24
        }
      ]
    },
    {
      "cell_type": "code",
      "metadata": {
        "colab": {
          "base_uri": "https://localhost:8080/"
        },
        "id": "171T_v1gmN2T",
        "outputId": "bcab3b17-9e09-4e34-e9b4-2a042e1db5ab"
      },
      "source": [
        "pred = text_clf.predict(X_valid['text'])\n",
        "print(classification_report(pred,y_valid))"
      ],
      "execution_count": null,
      "outputs": [
        {
          "output_type": "stream",
          "name": "stdout",
          "text": [
            "              precision    recall  f1-score   support\n",
            "\n",
            "           0       0.94      0.93      0.93      4988\n",
            "           1       0.92      0.93      0.93      4348\n",
            "\n",
            "    accuracy                           0.93      9336\n",
            "   macro avg       0.93      0.93      0.93      9336\n",
            "weighted avg       0.93      0.93      0.93      9336\n",
            "\n"
          ]
        }
      ]
    },
    {
      "cell_type": "markdown",
      "metadata": {
        "id": "xPnPUcLGKd5A"
      },
      "source": [
        "Since there aren't much significant difference we will just use the text column since it contains the most information."
      ]
    },
    {
      "cell_type": "markdown",
      "metadata": {
        "id": "aXjuwnaUNNhH"
      },
      "source": [
        "We will use pre trained bert families as our model so that it can capture the topic of the news rather than relying on a certain pattern."
      ]
    },
    {
      "cell_type": "code",
      "metadata": {
        "id": "ONkMNZB4qXzN"
      },
      "source": [
        "import tensorflow_datasets as tfds\n",
        "import tensorflow as tf\n",
        "from transformers import TFBertForSequenceClassification, BertTokenizer, RobertaTokenizer\n",
        "\n",
        "def convert_sentence_to_features(sentence,tokenizer):\n",
        "    return tokenizer.encode_plus(\n",
        "        sentence,\n",
        "        max_length=MAX_LENGTH,\n",
        "        add_special_tokens=True,\n",
        "        pad_to_max_length=True,\n",
        "        return_attention_mask=True,\n",
        "        truncation=True\n",
        "    )\n",
        "def map_features_to_dict(input_ids_list, attention_masks_list, label_list,token_type_ids_list=[]):\n",
        "    dict_={}\n",
        "    if len(token_type_ids_list) > 0:\n",
        "      dict_ = {\n",
        "        'input_ids': input_ids_list,\n",
        "        'token_type_ids' : token_type_ids_list,\n",
        "        'attention_mask': attention_masks_list,\n",
        "      }, label_list\n",
        "    else:\n",
        "      dict_ = {\n",
        "        'input_ids': input_ids_list,\n",
        "        'attention_mask': attention_masks_list,\n",
        "      }, label_list\n",
        "    return dict_\n",
        "    \n",
        "def encode_sentences(dataset,tokenizer):\n",
        "    input_ids_list = []\n",
        "    token_type_ids_list = []\n",
        "    attention_mask_list = []\n",
        "    label_list = []\n",
        "    tensor_dataset = []\n",
        "    for message, label in tfds.as_numpy(dataset):\n",
        "        bert_input = convert_sentence_to_features(message.decode(),tokenizer) \n",
        "        input_ids_list.append(bert_input['input_ids'])\n",
        "        attention_mask_list.append(bert_input['attention_mask'])\n",
        "        label_list.append([label]) \n",
        "        \n",
        "        if 'token_type_ids' in bert_input:\n",
        "          token_type_ids_list.append(bert_input['token_type_ids'])\n",
        "\n",
        "    if len(token_type_ids_list) > 0:\n",
        "      tensor_dataset = tf.data.Dataset.from_tensor_slices((input_ids_list, attention_mask_list, label_list, token_type_ids_list))\n",
        "    else:\n",
        "      tensor_dataset = tf.data.Dataset.from_tensor_slices((input_ids_list, attention_mask_list, label_list))\n",
        "\n",
        "    return tensor_dataset.map(map_features_to_dict)"
      ],
      "execution_count": null,
      "outputs": []
    },
    {
      "cell_type": "code",
      "metadata": {
        "id": "QAglfgt-qZiX"
      },
      "source": [
        "BATCH_SIZE=32\n",
        "MAX_LENGTH = 256\n",
        "SHUFFLE_BUFFER_SIZE=10000"
      ],
      "execution_count": null,
      "outputs": []
    },
    {
      "cell_type": "code",
      "metadata": {
        "id": "CqRXNd8yqa0d"
      },
      "source": [
        "tensor_train = tf.data.Dataset.from_tensor_slices((X_train['text'].values,y_train.values))\n",
        "tensor_valid = tf.data.Dataset.from_tensor_slices((X_valid['text'].values,y_valid.values))\n",
        "tensor_unseen = tf.data.Dataset.from_tensor_slices((X_unseen['text'].values,y_unseen.values))"
      ],
      "execution_count": null,
      "outputs": []
    },
    {
      "cell_type": "code",
      "metadata": {
        "id": "LH0SZhWTqcX4"
      },
      "source": [
        "tokenizer = BertTokenizer.from_pretrained('bert-base-cased')\n",
        "tokenizer2 = RobertaTokenizer.from_pretrained('roberta-base')"
      ],
      "execution_count": null,
      "outputs": []
    },
    {
      "cell_type": "code",
      "metadata": {
        "colab": {
          "base_uri": "https://localhost:8080/"
        },
        "id": "EA07Ik-uqd_n",
        "outputId": "c1e22b77-0f61-4e25-9030-bb01ce56f53c"
      },
      "source": [
        "ds_train_encoded_roberta = encode_sentences(tensor_train,tokenizer=tokenizer2).shuffle(SHUFFLE_BUFFER_SIZE).batch(BATCH_SIZE)\n",
        "ds_valid_encoded_roberta = encode_sentences(tensor_valid,tokenizer=tokenizer2).batch(BATCH_SIZE) \n",
        "ds_unseen_encoded_roberta = encode_sentences(tensor_unseen,tokenizer=tokenizer2).batch(BATCH_SIZE)\n",
        "\n",
        "ds_train_encoded_bert = encode_sentences(tensor_train,tokenizer=tokenizer).shuffle(SHUFFLE_BUFFER_SIZE).batch(BATCH_SIZE)\n",
        "ds_valid_encoded_bert = encode_sentences(tensor_valid,tokenizer=tokenizer).batch(BATCH_SIZE) \n",
        "ds_unseen_encoded_bert = encode_sentences(tensor_unseen,tokenizer=tokenizer).batch(BATCH_SIZE) "
      ],
      "execution_count": null,
      "outputs": [
        {
          "output_type": "stream",
          "name": "stderr",
          "text": [
            "/usr/local/lib/python3.7/dist-packages/transformers/tokenization_utils_base.py:2204: FutureWarning: The `pad_to_max_length` argument is deprecated and will be removed in a future version, use `padding=True` or `padding='longest'` to pad to the longest sequence in the batch, or use `padding='max_length'` to pad to a max length. In this case, you can give a specific length with `max_length` (e.g. `max_length=45`) or leave max_length to None to pad to the maximal input size of the model (e.g. 512 for Bert).\n",
            "  FutureWarning,\n"
          ]
        }
      ]
    },
    {
      "cell_type": "code",
      "metadata": {
        "id": "5eN1J4Qwqfs0"
      },
      "source": [
        "model_path = 'best_model.tf'\n",
        "class PrintValTrainRatioCallback(tf.keras.callbacks.Callback):\n",
        "    def on_epoch_end(self, epoch, logs): \n",
        "        print(\"val/train: {:.2f}\".format(logs[\"val_loss\"]/logs[\"loss\"]))\n",
        "        \n",
        "import datetime, os\n",
        "\n",
        "%load_ext tensorboard\n",
        "\n",
        "logdir = os.path.join(\"logs\", datetime.datetime.now().strftime(\"%Y%m%d-%H%M%S\"))\n",
        "tensorboard_callback = tf.keras.callbacks.TensorBoard(logdir, histogram_freq=1)\n",
        "\n",
        "\n",
        "callbacks = [\n",
        "    tf.keras.callbacks.EarlyStopping(patience=10,restore_best_weights=True),\n",
        "    tf.keras.callbacks.ModelCheckpoint(model_path, monitor='val_acc', save_best_weight=True),\n",
        "    tensorboard_callback,\n",
        "    tf.keras.callbacks.ReduceLROnPlateau(monitor=\"val_loss\", factor=0.2, # multiply the learning rate by 0.2 (reduce by 5x)\n",
        "                                                 patience=4, verbose=1, # print out when learning rate goes down \n",
        "                                                 min_lr=1e-7),\n",
        "    PrintValTrainRatioCallback()\n",
        "]"
      ],
      "execution_count": null,
      "outputs": []
    },
    {
      "cell_type": "code",
      "metadata": {
        "id": "c5cj2rJ7qh4v"
      },
      "source": [
        "%tensorboard --logdir logs"
      ],
      "execution_count": null,
      "outputs": []
    },
    {
      "cell_type": "code",
      "metadata": {
        "id": "mOSJ_1bYqjre"
      },
      "source": [
        "OPTIMIZER = tf.keras.optimizers.Adam(learning_rate=8e-6, epsilon=1e-08)\n",
        "EPOCHS = 9"
      ],
      "execution_count": null,
      "outputs": []
    },
    {
      "cell_type": "code",
      "metadata": {
        "id": "xkTVnx8Rqk1E",
        "colab": {
          "base_uri": "https://localhost:8080/",
          "height": 271,
          "referenced_widgets": [
            "382f1dc38f5a400793f3812e7b5be311",
            "edb82b611eb74586a67dc407760e2fd3",
            "a803a40926b9429b9eb05634ce898ac4",
            "cf9c32488f7d437e82961419ddf8d6f5",
            "a11433b5722947ad8005fc611ddef56a",
            "f9d5f0adc6d048c0aef32e7af3672cca",
            "770990a12132462ea05a227834956570",
            "b5c95957c1e24a729da724ce75229156",
            "057953e80e87422d9de5df5ffe4fd197",
            "fb1ad44786b84686b459f63e4af50a06",
            "bf05e25be63f4895b97a42430661bfaf",
            "86c5ef7eac404f7d80f820697bba9118",
            "c115b78ad4e64fbfb3ff8f8b3a46b7f5",
            "e036ca4700124122ad2c1c15bad9904f",
            "1161f37ed684498e9c02968cfc072ab5",
            "8ce75dffc11a44b0997cddc6454ca8ff",
            "e213480d951644dd91c2b2e65d9c177a",
            "9fb389cd095d4c78a05788ee1b869d63",
            "003b0fa5613d485e8da5175899096884",
            "6366bb8e996a4990a5895a1d87b9cc29",
            "0816b497d1ba4214b88a3bbc5388fbbe",
            "3619dd643a1745e082e99ddee2c11c5b"
          ]
        },
        "outputId": "af129d7b-0576-4219-d738-a606b437043c"
      },
      "source": [
        "tf.keras.backend.clear_session()\n",
        "model = TFBertForSequenceClassification.from_pretrained('bert-base-cased',num_hidden_layers=2,num_labels=2)\n",
        "model2 = TFRobertaForSequenceClassification.from_pretrained('roberta-base',num_hidden_layers=2,num_labels=2)"
      ],
      "execution_count": null,
      "outputs": [
        {
          "output_type": "display_data",
          "data": {
            "application/vnd.jupyter.widget-view+json": {
              "model_id": "382f1dc38f5a400793f3812e7b5be311",
              "version_minor": 0,
              "version_major": 2
            },
            "text/plain": [
              "Downloading:   0%|          | 0.00/527M [00:00<?, ?B/s]"
            ]
          },
          "metadata": {}
        },
        {
          "output_type": "stream",
          "name": "stderr",
          "text": [
            "Some layers from the model checkpoint at bert-base-cased were not used when initializing TFBertForSequenceClassification: ['bert/encoder/layer_._10/attention/output/LayerNorm/gamma:0', 'bert/encoder/layer_._7/output/dense/bias:0', 'bert/encoder/layer_._6/intermediate/dense/kernel:0', 'bert/encoder/layer_._9/intermediate/dense/kernel:0', 'bert/encoder/layer_._7/attention/output/dense/bias:0', 'bert/encoder/layer_._5/attention/output/LayerNorm/gamma:0', 'bert/encoder/layer_._7/attention/output/LayerNorm/gamma:0', 'bert/encoder/layer_._3/attention/self/query/bias:0', 'bert/encoder/layer_._2/output/dense/bias:0', 'bert/encoder/layer_._4/attention/output/LayerNorm/gamma:0', 'bert/encoder/layer_._7/attention/self/query/bias:0', 'bert/encoder/layer_._5/attention/self/key/bias:0', 'bert/encoder/layer_._6/output/dense/kernel:0', 'bert/encoder/layer_._3/output/LayerNorm/beta:0', 'bert/encoder/layer_._5/output/dense/kernel:0', 'bert/encoder/layer_._10/intermediate/dense/kernel:0', 'bert/encoder/layer_._4/output/LayerNorm/beta:0', 'bert/encoder/layer_._11/attention/self/value/kernel:0', 'bert/encoder/layer_._7/output/dense/kernel:0', 'bert/encoder/layer_._8/attention/self/query/kernel:0', 'bert/encoder/layer_._9/attention/output/LayerNorm/gamma:0', 'bert/encoder/layer_._10/attention/self/value/bias:0', 'bert/encoder/layer_._5/output/dense/bias:0', 'bert/encoder/layer_._11/output/LayerNorm/gamma:0', 'bert/encoder/layer_._3/attention/self/query/kernel:0', 'bert/encoder/layer_._9/attention/output/dense/bias:0', 'bert/encoder/layer_._3/attention/self/value/bias:0', 'bert/encoder/layer_._8/output/dense/kernel:0', 'bert/encoder/layer_._4/attention/self/value/kernel:0', 'bert/encoder/layer_._10/output/dense/bias:0', 'bert/encoder/layer_._4/attention/self/query/kernel:0', 'bert/encoder/layer_._8/attention/self/key/bias:0', 'bert/encoder/layer_._2/output/dense/kernel:0', 'bert/encoder/layer_._9/attention/self/value/kernel:0', 'bert/encoder/layer_._5/attention/output/dense/bias:0', 'bert/encoder/layer_._6/attention/self/key/kernel:0', 'bert/encoder/layer_._7/intermediate/dense/kernel:0', 'bert/encoder/layer_._2/output/LayerNorm/beta:0', 'bert/encoder/layer_._7/output/LayerNorm/gamma:0', 'bert/encoder/layer_._7/attention/self/key/bias:0', 'bert/encoder/layer_._9/attention/self/query/bias:0', 'bert/encoder/layer_._6/output/LayerNorm/gamma:0', 'bert/encoder/layer_._11/output/LayerNorm/beta:0', 'bert/encoder/layer_._2/intermediate/dense/bias:0', 'bert/encoder/layer_._9/output/dense/kernel:0', 'bert/encoder/layer_._10/attention/self/value/kernel:0', 'bert/encoder/layer_._11/intermediate/dense/bias:0', 'bert/encoder/layer_._2/attention/self/query/bias:0', 'bert/encoder/layer_._8/attention/output/LayerNorm/beta:0', 'bert/encoder/layer_._10/attention/output/dense/kernel:0', 'bert/encoder/layer_._4/attention/self/query/bias:0', 'bert/encoder/layer_._11/intermediate/dense/kernel:0', 'bert/encoder/layer_._3/attention/output/dense/bias:0', 'bert/encoder/layer_._8/attention/self/query/bias:0', 'bert/encoder/layer_._2/attention/self/key/bias:0', 'bert/encoder/layer_._5/attention/output/dense/kernel:0', 'bert/encoder/layer_._2/attention/self/value/kernel:0', 'bert/encoder/layer_._11/output/dense/bias:0', 'bert/encoder/layer_._10/output/LayerNorm/beta:0', 'bert/encoder/layer_._3/attention/self/key/bias:0', 'bert/encoder/layer_._5/attention/self/query/kernel:0', 'bert/encoder/layer_._4/attention/output/LayerNorm/beta:0', 'bert/encoder/layer_._4/output/dense/kernel:0', 'bert/encoder/layer_._10/attention/self/key/kernel:0', 'bert/encoder/layer_._6/attention/self/value/kernel:0', 'bert/encoder/layer_._4/intermediate/dense/bias:0', 'bert/encoder/layer_._11/attention/output/dense/kernel:0', 'bert/encoder/layer_._2/output/LayerNorm/gamma:0', 'bert/encoder/layer_._6/attention/self/query/bias:0', 'bert/encoder/layer_._8/intermediate/dense/kernel:0', 'bert/encoder/layer_._5/intermediate/dense/bias:0', 'bert/encoder/layer_._10/output/LayerNorm/gamma:0', 'bert/encoder/layer_._6/attention/self/value/bias:0', 'bert/encoder/layer_._8/attention/self/key/kernel:0', 'bert/encoder/layer_._7/attention/self/value/bias:0', 'bert/encoder/layer_._3/output/dense/kernel:0', 'bert/encoder/layer_._9/attention/self/value/bias:0', 'bert/encoder/layer_._6/attention/output/LayerNorm/beta:0', 'bert/encoder/layer_._9/attention/self/key/kernel:0', 'bert/encoder/layer_._2/attention/self/key/kernel:0', 'bert/encoder/layer_._4/attention/output/dense/bias:0', 'bert/encoder/layer_._5/attention/self/key/kernel:0', 'bert/encoder/layer_._8/intermediate/dense/bias:0', 'bert/encoder/layer_._6/output/LayerNorm/beta:0', 'bert/encoder/layer_._4/output/LayerNorm/gamma:0', 'bert/encoder/layer_._7/attention/self/value/kernel:0', 'bert/encoder/layer_._7/intermediate/dense/bias:0', 'bert/encoder/layer_._11/attention/self/value/bias:0', 'bert/encoder/layer_._3/attention/output/dense/kernel:0', 'bert/encoder/layer_._3/attention/output/LayerNorm/beta:0', 'bert/encoder/layer_._6/attention/self/key/bias:0', 'bert/encoder/layer_._9/output/LayerNorm/gamma:0', 'bert/encoder/layer_._5/intermediate/dense/kernel:0', 'bert/encoder/layer_._8/output/LayerNorm/beta:0', 'bert/encoder/layer_._7/attention/self/query/kernel:0', 'bert/encoder/layer_._9/attention/output/LayerNorm/beta:0', 'bert/encoder/layer_._2/attention/output/dense/kernel:0', 'bert/encoder/layer_._8/attention/self/value/kernel:0', 'bert/encoder/layer_._3/output/dense/bias:0', 'bert/encoder/layer_._8/attention/output/dense/bias:0', 'bert/encoder/layer_._2/attention/output/dense/bias:0', 'bert/encoder/layer_._7/output/LayerNorm/beta:0', 'bert/encoder/layer_._2/intermediate/dense/kernel:0', 'bert/encoder/layer_._8/attention/output/LayerNorm/gamma:0', 'bert/encoder/layer_._9/output/dense/bias:0', 'bert/encoder/layer_._3/intermediate/dense/kernel:0', 'bert/encoder/layer_._11/attention/self/key/kernel:0', 'bert/encoder/layer_._2/attention/self/query/kernel:0', 'bert/encoder/layer_._10/attention/self/query/bias:0', 'bert/encoder/layer_._9/output/LayerNorm/beta:0', 'bert/encoder/layer_._10/intermediate/dense/bias:0', 'bert/encoder/layer_._7/attention/output/LayerNorm/beta:0', 'bert/encoder/layer_._8/attention/self/value/bias:0', 'bert/encoder/layer_._4/attention/self/key/kernel:0', 'bert/encoder/layer_._3/attention/self/value/kernel:0', 'bert/encoder/layer_._5/attention/self/value/kernel:0', 'bert/encoder/layer_._5/attention/output/LayerNorm/beta:0', 'bert/encoder/layer_._6/attention/output/LayerNorm/gamma:0', 'bert/encoder/layer_._11/attention/self/query/bias:0', 'bert/encoder/layer_._4/attention/self/value/bias:0', 'bert/encoder/layer_._10/attention/self/key/bias:0', 'bert/encoder/layer_._2/attention/output/LayerNorm/beta:0', 'bert/encoder/layer_._3/attention/self/key/kernel:0', 'bert/encoder/layer_._9/attention/output/dense/kernel:0', 'bert/encoder/layer_._5/attention/self/value/bias:0', 'bert/encoder/layer_._4/attention/self/key/bias:0', 'bert/encoder/layer_._8/attention/output/dense/kernel:0', 'bert/encoder/layer_._7/attention/self/key/kernel:0', 'bert/encoder/layer_._11/attention/self/query/kernel:0', 'bert/encoder/layer_._10/attention/output/dense/bias:0', 'bert/encoder/layer_._11/attention/output/LayerNorm/beta:0', 'bert/encoder/layer_._9/intermediate/dense/bias:0', 'bert/encoder/layer_._10/attention/self/query/kernel:0', 'bert/encoder/layer_._11/output/dense/kernel:0', 'bert/encoder/layer_._2/attention/output/LayerNorm/gamma:0', 'bert/encoder/layer_._4/attention/output/dense/kernel:0', 'bert/encoder/layer_._10/attention/output/LayerNorm/beta:0', 'bert/encoder/layer_._7/attention/output/dense/kernel:0', 'bert/encoder/layer_._6/attention/output/dense/kernel:0', 'bert/encoder/layer_._3/attention/output/LayerNorm/gamma:0', 'bert/encoder/layer_._11/attention/output/dense/bias:0', 'bert/encoder/layer_._5/output/LayerNorm/beta:0', 'bert/encoder/layer_._8/output/LayerNorm/gamma:0', 'bert/encoder/layer_._5/output/LayerNorm/gamma:0', 'bert/encoder/layer_._8/output/dense/bias:0', 'bert/encoder/layer_._9/attention/self/key/bias:0', 'bert/encoder/layer_._6/intermediate/dense/bias:0', 'bert/encoder/layer_._4/output/dense/bias:0', 'bert/encoder/layer_._11/attention/output/LayerNorm/gamma:0', 'bert/encoder/layer_._6/attention/self/query/kernel:0', 'bert/encoder/layer_._3/output/LayerNorm/gamma:0', 'bert/encoder/layer_._9/attention/self/query/kernel:0', 'bert/encoder/layer_._10/output/dense/kernel:0', 'bert/encoder/layer_._2/attention/self/value/bias:0', 'bert/encoder/layer_._4/intermediate/dense/kernel:0', 'bert/encoder/layer_._6/attention/output/dense/bias:0', 'bert/encoder/layer_._6/output/dense/bias:0', 'bert/encoder/layer_._11/attention/self/key/bias:0', 'bert/encoder/layer_._3/intermediate/dense/bias:0', 'bert/encoder/layer_._5/attention/self/query/bias:0']\n",
            "- This IS expected if you are initializing TFBertForSequenceClassification from the checkpoint of a model trained on another task or with another architecture (e.g. initializing a BertForSequenceClassification model from a BertForPreTraining model).\n",
            "- This IS NOT expected if you are initializing TFBertForSequenceClassification from the checkpoint of a model that you expect to be exactly identical (initializing a BertForSequenceClassification model from a BertForSequenceClassification model).\n",
            "Some layers of TFBertForSequenceClassification were not initialized from the model checkpoint at bert-base-cased and are newly initialized: ['classifier']\n",
            "You should probably TRAIN this model on a down-stream task to be able to use it for predictions and inference.\n"
          ]
        },
        {
          "output_type": "display_data",
          "data": {
            "application/vnd.jupyter.widget-view+json": {
              "model_id": "86c5ef7eac404f7d80f820697bba9118",
              "version_minor": 0,
              "version_major": 2
            },
            "text/plain": [
              "Downloading:   0%|          | 0.00/657M [00:00<?, ?B/s]"
            ]
          },
          "metadata": {}
        },
        {
          "output_type": "stream",
          "name": "stderr",
          "text": [
            "Some layers from the model checkpoint at roberta-base were not used when initializing TFRobertaForSequenceClassification: ['roberta/encoder/layer_._10/attention/output/dense/kernel:0', 'roberta/encoder/layer_._4/attention/self/key/kernel:0', 'roberta/encoder/layer_._6/attention/output/dense/bias:0', 'roberta/encoder/layer_._2/output/LayerNorm/gamma:0', 'roberta/encoder/layer_._6/attention/self/value/bias:0', 'roberta/encoder/layer_._5/output/dense/bias:0', 'roberta/encoder/layer_._5/attention/output/dense/bias:0', 'roberta/encoder/layer_._6/attention/self/query/bias:0', 'roberta/encoder/layer_._6/attention/self/key/bias:0', 'roberta/encoder/layer_._7/intermediate/dense/bias:0', 'roberta/encoder/layer_._8/attention/output/dense/kernel:0', 'roberta/encoder/layer_._9/intermediate/dense/bias:0', 'roberta/encoder/layer_._10/attention/self/value/bias:0', 'roberta/encoder/layer_._2/attention/output/dense/kernel:0', 'roberta/encoder/layer_._9/attention/self/query/bias:0', 'roberta/encoder/layer_._11/attention/output/dense/bias:0', 'roberta/encoder/layer_._3/output/LayerNorm/beta:0', 'roberta/encoder/layer_._8/attention/self/query/bias:0', 'roberta/encoder/layer_._7/attention/output/dense/bias:0', 'roberta/encoder/layer_._11/attention/self/query/bias:0', 'roberta/encoder/layer_._3/attention/self/query/bias:0', 'roberta/encoder/layer_._10/attention/output/LayerNorm/beta:0', 'roberta/encoder/layer_._7/output/dense/bias:0', 'roberta/encoder/layer_._8/attention/output/dense/bias:0', 'roberta/encoder/layer_._2/attention/self/value/bias:0', 'roberta/encoder/layer_._3/attention/self/key/kernel:0', 'roberta/encoder/layer_._9/attention/output/LayerNorm/beta:0', 'roberta/encoder/layer_._10/output/LayerNorm/gamma:0', 'roberta/encoder/layer_._8/attention/self/value/bias:0', 'roberta/encoder/layer_._11/output/dense/bias:0', 'roberta/encoder/layer_._6/attention/output/dense/kernel:0', 'roberta/encoder/layer_._4/output/LayerNorm/gamma:0', 'roberta/encoder/layer_._8/attention/self/query/kernel:0', 'roberta/encoder/layer_._8/attention/output/LayerNorm/beta:0', 'roberta/encoder/layer_._9/attention/self/value/bias:0', 'roberta/encoder/layer_._7/intermediate/dense/kernel:0', 'roberta/encoder/layer_._2/intermediate/dense/bias:0', 'roberta/encoder/layer_._9/output/LayerNorm/gamma:0', 'roberta/encoder/layer_._5/attention/self/value/kernel:0', 'roberta/encoder/layer_._5/output/LayerNorm/beta:0', 'roberta/encoder/layer_._2/attention/output/dense/bias:0', 'roberta/encoder/layer_._7/attention/self/query/bias:0', 'roberta/encoder/layer_._11/output/LayerNorm/gamma:0', 'roberta/encoder/layer_._3/output/dense/kernel:0', 'roberta/encoder/layer_._11/output/LayerNorm/beta:0', 'roberta/encoder/layer_._9/intermediate/dense/kernel:0', 'roberta/encoder/layer_._2/output/dense/kernel:0', 'roberta/encoder/layer_._5/intermediate/dense/kernel:0', 'roberta/encoder/layer_._11/attention/self/value/kernel:0', 'roberta/encoder/layer_._7/attention/self/key/bias:0', 'roberta/encoder/layer_._11/attention/self/key/bias:0', 'roberta/encoder/layer_._11/attention/output/LayerNorm/gamma:0', 'roberta/encoder/layer_._9/output/dense/bias:0', 'roberta/encoder/layer_._6/output/dense/bias:0', 'roberta/encoder/layer_._2/attention/self/value/kernel:0', 'roberta/encoder/layer_._7/attention/output/LayerNorm/gamma:0', 'roberta/encoder/layer_._7/attention/self/value/bias:0', 'roberta/encoder/layer_._11/attention/output/LayerNorm/beta:0', 'roberta/encoder/layer_._8/attention/self/key/kernel:0', 'roberta/encoder/layer_._4/attention/output/LayerNorm/gamma:0', 'roberta/encoder/layer_._10/attention/output/dense/bias:0', 'roberta/encoder/layer_._10/attention/output/LayerNorm/gamma:0', 'roberta/encoder/layer_._7/output/LayerNorm/beta:0', 'roberta/encoder/layer_._10/intermediate/dense/kernel:0', 'roberta/encoder/layer_._2/intermediate/dense/kernel:0', 'roberta/encoder/layer_._4/attention/self/value/kernel:0', 'roberta/encoder/layer_._6/intermediate/dense/bias:0', 'roberta/encoder/layer_._5/output/dense/kernel:0', 'roberta/encoder/layer_._6/attention/output/LayerNorm/gamma:0', 'roberta/encoder/layer_._5/attention/output/LayerNorm/gamma:0', 'roberta/encoder/layer_._3/attention/self/value/kernel:0', 'roberta/encoder/layer_._8/output/LayerNorm/gamma:0', 'roberta/encoder/layer_._8/attention/output/LayerNorm/gamma:0', 'roberta/encoder/layer_._9/attention/self/key/bias:0', 'roberta/encoder/layer_._5/attention/self/key/kernel:0', 'roberta/encoder/layer_._5/output/LayerNorm/gamma:0', 'roberta/encoder/layer_._10/output/dense/kernel:0', 'roberta/encoder/layer_._8/attention/self/key/bias:0', 'roberta/encoder/layer_._4/attention/self/value/bias:0', 'roberta/encoder/layer_._5/attention/output/dense/kernel:0', 'roberta/encoder/layer_._6/attention/self/query/kernel:0', 'roberta/encoder/layer_._9/attention/self/key/kernel:0', 'roberta/encoder/layer_._3/output/dense/bias:0', 'roberta/encoder/layer_._4/output/dense/kernel:0', 'roberta/encoder/layer_._5/attention/self/query/bias:0', 'roberta/encoder/layer_._2/attention/output/LayerNorm/beta:0', 'roberta/encoder/layer_._8/attention/self/value/kernel:0', 'roberta/encoder/layer_._11/attention/self/value/bias:0', 'roberta/encoder/layer_._3/intermediate/dense/bias:0', 'roberta/encoder/layer_._5/attention/output/LayerNorm/beta:0', 'roberta/encoder/layer_._10/attention/self/value/kernel:0', 'roberta/encoder/layer_._6/output/LayerNorm/beta:0', 'roberta/encoder/layer_._8/output/LayerNorm/beta:0', 'roberta/encoder/layer_._3/attention/output/LayerNorm/gamma:0', 'roberta/encoder/layer_._4/output/dense/bias:0', 'roberta/encoder/layer_._10/output/LayerNorm/beta:0', 'roberta/encoder/layer_._2/output/LayerNorm/beta:0', 'roberta/encoder/layer_._6/attention/self/value/kernel:0', 'roberta/encoder/layer_._8/output/dense/bias:0', 'roberta/encoder/layer_._5/attention/self/value/bias:0', 'roberta/encoder/layer_._9/attention/self/value/kernel:0', 'roberta/encoder/layer_._9/output/dense/kernel:0', 'roberta/encoder/layer_._10/attention/self/query/bias:0', 'roberta/encoder/layer_._2/attention/self/query/bias:0', 'roberta/encoder/layer_._3/attention/self/query/kernel:0', 'roberta/encoder/layer_._11/attention/self/query/kernel:0', 'roberta/encoder/layer_._5/intermediate/dense/bias:0', 'roberta/encoder/layer_._4/attention/output/LayerNorm/beta:0', 'roberta/encoder/layer_._3/attention/self/value/bias:0', 'roberta/encoder/layer_._5/attention/self/query/kernel:0', 'roberta/encoder/layer_._4/attention/self/query/kernel:0', 'roberta/encoder/layer_._9/attention/output/dense/bias:0', 'roberta/encoder/layer_._7/attention/output/LayerNorm/beta:0', 'roberta/encoder/layer_._10/attention/self/key/bias:0', 'roberta/encoder/layer_._10/output/dense/bias:0', 'roberta/encoder/layer_._3/attention/output/dense/bias:0', 'roberta/encoder/layer_._11/attention/output/dense/kernel:0', 'roberta/encoder/layer_._4/attention/self/query/bias:0', 'roberta/encoder/layer_._6/attention/self/key/kernel:0', 'roberta/encoder/layer_._4/intermediate/dense/bias:0', 'roberta/encoder/layer_._7/attention/output/dense/kernel:0', 'roberta/encoder/layer_._5/attention/self/key/bias:0', 'roberta/encoder/layer_._7/attention/self/key/kernel:0', 'roberta/encoder/layer_._2/attention/self/query/kernel:0', 'roberta/encoder/layer_._10/attention/self/key/kernel:0', 'roberta/encoder/layer_._3/output/LayerNorm/gamma:0', 'roberta/encoder/layer_._4/attention/output/dense/bias:0', 'roberta/encoder/layer_._8/output/dense/kernel:0', 'roberta/encoder/layer_._2/attention/output/LayerNorm/gamma:0', 'roberta/encoder/layer_._2/output/dense/bias:0', 'roberta/encoder/layer_._6/output/LayerNorm/gamma:0', 'roberta/encoder/layer_._9/output/LayerNorm/beta:0', 'roberta/encoder/layer_._3/attention/output/LayerNorm/beta:0', 'roberta/encoder/layer_._10/intermediate/dense/bias:0', 'roberta/encoder/layer_._11/attention/self/key/kernel:0', 'roberta/encoder/layer_._6/output/dense/kernel:0', 'roberta/encoder/layer_._8/intermediate/dense/kernel:0', 'roberta/encoder/layer_._3/intermediate/dense/kernel:0', 'roberta/encoder/layer_._6/attention/output/LayerNorm/beta:0', 'roberta/encoder/layer_._11/output/dense/kernel:0', 'roberta/encoder/layer_._2/attention/self/key/kernel:0', 'roberta/encoder/layer_._4/attention/output/dense/kernel:0', 'roberta/encoder/layer_._4/attention/self/key/bias:0', 'roberta/encoder/layer_._7/output/LayerNorm/gamma:0', 'roberta/encoder/layer_._7/attention/self/value/kernel:0', 'roberta/encoder/layer_._10/attention/self/query/kernel:0', 'roberta/encoder/layer_._4/output/LayerNorm/beta:0', 'roberta/encoder/layer_._3/attention/output/dense/kernel:0', 'roberta/encoder/layer_._7/output/dense/kernel:0', 'roberta/encoder/layer_._11/intermediate/dense/kernel:0', 'roberta/encoder/layer_._9/attention/self/query/kernel:0', 'roberta/encoder/layer_._9/attention/output/dense/kernel:0', 'roberta/encoder/layer_._9/attention/output/LayerNorm/gamma:0', 'roberta/encoder/layer_._4/intermediate/dense/kernel:0', 'roberta/encoder/layer_._7/attention/self/query/kernel:0', 'roberta/encoder/layer_._8/intermediate/dense/bias:0', 'roberta/encoder/layer_._11/intermediate/dense/bias:0', 'roberta/encoder/layer_._3/attention/self/key/bias:0', 'roberta/encoder/layer_._6/intermediate/dense/kernel:0', 'roberta/encoder/layer_._2/attention/self/key/bias:0']\n",
            "- This IS expected if you are initializing TFRobertaForSequenceClassification from the checkpoint of a model trained on another task or with another architecture (e.g. initializing a BertForSequenceClassification model from a BertForPreTraining model).\n",
            "- This IS NOT expected if you are initializing TFRobertaForSequenceClassification from the checkpoint of a model that you expect to be exactly identical (initializing a BertForSequenceClassification model from a BertForSequenceClassification model).\n",
            "Some layers of TFRobertaForSequenceClassification were not initialized from the model checkpoint at roberta-base and are newly initialized: ['classifier']\n",
            "You should probably TRAIN this model on a down-stream task to be able to use it for predictions and inference.\n"
          ]
        }
      ]
    },
    {
      "cell_type": "code",
      "metadata": {
        "id": "oYhxUQncqmFD"
      },
      "source": [
        "model.compile(optimizer=OPTIMIZER,\n",
        "              loss='binary_crossentropy',\n",
        "              metrics=['accuracy'])\n",
        "\n",
        "model2.compile(optimizer=OPTIMIZER,\n",
        "              loss='binary_crossentropy',\n",
        "              metrics=['accuracy'])"
      ],
      "execution_count": null,
      "outputs": []
    },
    {
      "cell_type": "code",
      "metadata": {
        "id": "-T044gGMqne1",
        "colab": {
          "base_uri": "https://localhost:8080/"
        },
        "outputId": "31f1d4c0-6e07-488a-e8c2-d6655971aacb"
      },
      "source": [
        "model.summary()"
      ],
      "execution_count": null,
      "outputs": [
        {
          "output_type": "stream",
          "name": "stdout",
          "text": [
            "Model: \"tf_bert_for_sequence_classification\"\n",
            "_________________________________________________________________\n",
            "Layer (type)                 Output Shape              Param #   \n",
            "=================================================================\n",
            "bert (TFBertMainLayer)       multiple                  37431552  \n",
            "_________________________________________________________________\n",
            "dropout_7 (Dropout)          multiple                  0         \n",
            "_________________________________________________________________\n",
            "classifier (Dense)           multiple                  769       \n",
            "=================================================================\n",
            "Total params: 37,432,321\n",
            "Trainable params: 37,432,321\n",
            "Non-trainable params: 0\n",
            "_________________________________________________________________\n"
          ]
        }
      ]
    },
    {
      "cell_type": "code",
      "metadata": {
        "colab": {
          "base_uri": "https://localhost:8080/"
        },
        "id": "R_WXCceW9ZPH",
        "outputId": "852600e6-af12-48ba-8c40-05db06cd31c5"
      },
      "source": [
        "history = model.fit(ds_train_encoded_bert,\n",
        "                    epochs=EPOCHS+3,\n",
        "                    validation_data=ds_valid_encoded_bert,\n",
        "                    # callbacks=callbacks\n",
        "                    )"
      ],
      "execution_count": null,
      "outputs": [
        {
          "output_type": "stream",
          "name": "stdout",
          "text": [
            "Epoch 1/12\n",
            "WARNING:tensorflow:The parameters `output_attentions`, `output_hidden_states` and `use_cache` cannot be updated when calling a model.They have to be set to True/False in the config object (i.e.: `config=XConfig.from_pretrained('name', output_attentions=True)`).\n",
            "WARNING:tensorflow:AutoGraph could not transform <bound method Socket.send of <zmq.Socket(zmq.PUSH) at 0x7f29d73eff30>> and will run it as-is.\n",
            "Please report this to the TensorFlow team. When filing the bug, set the verbosity to 10 (on Linux, `export AUTOGRAPH_VERBOSITY=10`) and attach the full output.\n",
            "Cause: module, class, method, function, traceback, frame, or code object was expected, got cython_function_or_method\n",
            "To silence this warning, decorate the function with @tf.autograph.experimental.do_not_convert\n",
            "WARNING: AutoGraph could not transform <bound method Socket.send of <zmq.Socket(zmq.PUSH) at 0x7f29d73eff30>> and will run it as-is.\n",
            "Please report this to the TensorFlow team. When filing the bug, set the verbosity to 10 (on Linux, `export AUTOGRAPH_VERBOSITY=10`) and attach the full output.\n",
            "Cause: module, class, method, function, traceback, frame, or code object was expected, got cython_function_or_method\n",
            "To silence this warning, decorate the function with @tf.autograph.experimental.do_not_convert\n",
            "WARNING:tensorflow:AutoGraph could not transform <function wrap at 0x7f29f25a2950> and will run it as-is.\n",
            "Cause: while/else statement not yet supported\n",
            "To silence this warning, decorate the function with @tf.autograph.experimental.do_not_convert\n",
            "WARNING: AutoGraph could not transform <function wrap at 0x7f29f25a2950> and will run it as-is.\n",
            "Cause: while/else statement not yet supported\n",
            "To silence this warning, decorate the function with @tf.autograph.experimental.do_not_convert\n",
            "WARNING:tensorflow:The parameter `return_dict` cannot be set in graph mode and will always be set to `True`.\n",
            "WARNING:tensorflow:The parameters `output_attentions`, `output_hidden_states` and `use_cache` cannot be updated when calling a model.They have to be set to True/False in the config object (i.e.: `config=XConfig.from_pretrained('name', output_attentions=True)`).\n",
            "WARNING:tensorflow:The parameter `return_dict` cannot be set in graph mode and will always be set to `True`.\n",
            "681/681 [==============================] - ETA: 0s - loss: 0.3797 - accuracy: 0.8648WARNING:tensorflow:The parameters `output_attentions`, `output_hidden_states` and `use_cache` cannot be updated when calling a model.They have to be set to True/False in the config object (i.e.: `config=XConfig.from_pretrained('name', output_attentions=True)`).\n",
            "WARNING:tensorflow:The parameter `return_dict` cannot be set in graph mode and will always be set to `True`.\n",
            "681/681 [==============================] - 438s 583ms/step - loss: 0.3797 - accuracy: 0.8648 - val_loss: 0.2885 - val_accuracy: 0.9129\n",
            "Epoch 2/12\n",
            "681/681 [==============================] - 397s 582ms/step - loss: 0.2751 - accuracy: 0.9172 - val_loss: 0.2450 - val_accuracy: 0.9252\n",
            "Epoch 3/12\n",
            "681/681 [==============================] - 396s 581ms/step - loss: 0.2398 - accuracy: 0.9314 - val_loss: 0.2088 - val_accuracy: 0.9370\n",
            "Epoch 4/12\n",
            "681/681 [==============================] - 396s 581ms/step - loss: 0.2384 - accuracy: 0.9411 - val_loss: 0.2462 - val_accuracy: 0.9372\n",
            "Epoch 5/12\n",
            "681/681 [==============================] - 396s 582ms/step - loss: 0.2124 - accuracy: 0.9405 - val_loss: 0.1670 - val_accuracy: 0.9374\n",
            "Epoch 6/12\n",
            "681/681 [==============================] - 396s 581ms/step - loss: 0.1663 - accuracy: 0.9518 - val_loss: 0.1738 - val_accuracy: 0.9441\n",
            "Epoch 7/12\n",
            "681/681 [==============================] - 397s 582ms/step - loss: 0.1583 - accuracy: 0.9578 - val_loss: 0.2598 - val_accuracy: 0.9404\n",
            "Epoch 8/12\n",
            "681/681 [==============================] - 395s 580ms/step - loss: 0.1409 - accuracy: 0.9654 - val_loss: 0.3765 - val_accuracy: 0.9236\n",
            "Epoch 9/12\n",
            "681/681 [==============================] - 396s 581ms/step - loss: 0.2477 - accuracy: 0.9480 - val_loss: 0.1987 - val_accuracy: 0.9439\n",
            "Epoch 10/12\n",
            "681/681 [==============================] - 396s 581ms/step - loss: 0.1285 - accuracy: 0.9683 - val_loss: 0.2456 - val_accuracy: 0.9448\n",
            "Epoch 11/12\n",
            "681/681 [==============================] - 396s 582ms/step - loss: 0.1187 - accuracy: 0.9720 - val_loss: 0.2482 - val_accuracy: 0.9472\n",
            "Epoch 12/12\n",
            "681/681 [==============================] - 396s 582ms/step - loss: 0.1095 - accuracy: 0.9761 - val_loss: 0.2894 - val_accuracy: 0.9479\n"
          ]
        }
      ]
    },
    {
      "cell_type": "code",
      "metadata": {
        "colab": {
          "base_uri": "https://localhost:8080/"
        },
        "id": "juSFzfNTBuFH",
        "outputId": "42b2af46-0948-4f1d-cd50-00cae1669d46"
      },
      "source": [
        "history2 = model2.fit(ds_train_encoded_roberta,\n",
        "                    epochs=EPOCHS,\n",
        "                    validation_data=ds_valid_encoded_roberta,\n",
        "                    # callbacks=callbacks\n",
        ")"
      ],
      "execution_count": null,
      "outputs": [
        {
          "output_type": "stream",
          "name": "stdout",
          "text": [
            "Epoch 1/9\n",
            "WARNING:tensorflow:The parameters `output_attentions`, `output_hidden_states` and `use_cache` cannot be updated when calling a model.They have to be set to True/False in the config object (i.e.: `config=XConfig.from_pretrained('name', output_attentions=True)`).\n",
            "WARNING:tensorflow:The parameter `return_dict` cannot be set in graph mode and will always be set to `True`.\n",
            "WARNING:tensorflow:The parameters `output_attentions`, `output_hidden_states` and `use_cache` cannot be updated when calling a model.They have to be set to True/False in the config object (i.e.: `config=XConfig.from_pretrained('name', output_attentions=True)`).\n",
            "WARNING:tensorflow:The parameter `return_dict` cannot be set in graph mode and will always be set to `True`.\n",
            "681/681 [==============================] - ETA: 0s - loss: 0.3831 - accuracy: 0.8691WARNING:tensorflow:The parameters `output_attentions`, `output_hidden_states` and `use_cache` cannot be updated when calling a model.They have to be set to True/False in the config object (i.e.: `config=XConfig.from_pretrained('name', output_attentions=True)`).\n",
            "WARNING:tensorflow:The parameter `return_dict` cannot be set in graph mode and will always be set to `True`.\n",
            "681/681 [==============================] - 412s 596ms/step - loss: 0.3831 - accuracy: 0.8691 - val_loss: 0.2218 - val_accuracy: 0.9368\n",
            "Epoch 2/9\n",
            "681/681 [==============================] - 404s 593ms/step - loss: 0.2331 - accuracy: 0.9363 - val_loss: 0.2223 - val_accuracy: 0.9392\n",
            "Epoch 3/9\n",
            "681/681 [==============================] - 406s 595ms/step - loss: 0.2606 - accuracy: 0.9136 - val_loss: 0.1883 - val_accuracy: 0.9425\n",
            "Epoch 4/9\n",
            "681/681 [==============================] - 406s 595ms/step - loss: 0.2403 - accuracy: 0.9355 - val_loss: 0.2513 - val_accuracy: 0.9328\n",
            "Epoch 5/9\n",
            "681/681 [==============================] - 405s 594ms/step - loss: 0.1804 - accuracy: 0.9475 - val_loss: 0.2275 - val_accuracy: 0.9447\n",
            "Epoch 6/9\n",
            "681/681 [==============================] - 405s 594ms/step - loss: 0.2278 - accuracy: 0.9372 - val_loss: 0.1685 - val_accuracy: 0.9441\n",
            "Epoch 7/9\n",
            "681/681 [==============================] - 406s 595ms/step - loss: 0.1621 - accuracy: 0.9512 - val_loss: 0.2150 - val_accuracy: 0.9439\n",
            "Epoch 8/9\n",
            "681/681 [==============================] - 405s 595ms/step - loss: 0.1716 - accuracy: 0.9506 - val_loss: 0.1743 - val_accuracy: 0.9489\n",
            "Epoch 9/9\n",
            "681/681 [==============================] - 405s 594ms/step - loss: 0.1573 - accuracy: 0.9565 - val_loss: 0.2546 - val_accuracy: 0.9451\n"
          ]
        }
      ]
    },
    {
      "cell_type": "code",
      "metadata": {
        "colab": {
          "base_uri": "https://localhost:8080/",
          "height": 282
        },
        "id": "e-reUJinJU1q",
        "outputId": "ef0460cb-6800-428f-e629-4c18c50ce9df"
      },
      "source": [
        "pd.DataFrame(history.history).plot()"
      ],
      "execution_count": null,
      "outputs": [
        {
          "output_type": "execute_result",
          "data": {
            "text/plain": [
              "<matplotlib.axes._subplots.AxesSubplot at 0x7f28cfb5a550>"
            ]
          },
          "metadata": {},
          "execution_count": 54
        },
        {
          "output_type": "display_data",
          "data": {
            "image/png": "[encoded data removed]",
            "text/plain": [
              "<Figure size 432x288 with 1 Axes>"
            ]
          },
          "metadata": {
            "needs_background": "light"
          }
        }
      ]
    },
    {
      "cell_type": "code",
      "metadata": {
        "colab": {
          "base_uri": "https://localhost:8080/",
          "height": 282
        },
        "id": "a3MJ55vca6lc",
        "outputId": "33a1a906-65a2-4c5f-91cb-f4b0e3b8acc2"
      },
      "source": [
        "pd.DataFrame(history2.history).plot()"
      ],
      "execution_count": null,
      "outputs": [
        {
          "output_type": "execute_result",
          "data": {
            "text/plain": [
              "<matplotlib.axes._subplots.AxesSubplot at 0x7f28cd5142d0>"
            ]
          },
          "metadata": {},
          "execution_count": 56
        },
        {
          "output_type": "display_data",
          "data": {
            "image/png": "[encoded data removed]",
            "text/plain": [
              "<Figure size 432x288 with 1 Axes>"
            ]
          },
          "metadata": {
            "needs_background": "light"
          }
        }
      ]
    },
    {
      "cell_type": "code",
      "metadata": {
        "id": "w2mhqJwFbRfl"
      },
      "source": [
        "hist2 = pd.DataFrame(history2.history)"
      ],
      "execution_count": null,
      "outputs": []
    },
    {
      "cell_type": "code",
      "metadata": {
        "id": "-JkRpJupbj4u"
      },
      "source": [
        "hist = pd.DataFrame(history.history)"
      ],
      "execution_count": null,
      "outputs": []
    },
    {
      "cell_type": "code",
      "metadata": {
        "colab": {
          "base_uri": "https://localhost:8080/",
          "height": 284
        },
        "id": "5yfKng-abTsG",
        "outputId": "1ad3fac0-ee71-4cec-e22d-7bc771c1da77"
      },
      "source": [
        "hist2[['accuracy','val_accuracy']].plot()"
      ],
      "execution_count": null,
      "outputs": [
        {
          "output_type": "execute_result",
          "data": {
            "text/plain": [
              "<matplotlib.axes._subplots.AxesSubplot at 0x7f28cb25e310>"
            ]
          },
          "metadata": {},
          "execution_count": 62
        },
        {
          "output_type": "display_data",
          "data": {
            "image/png": "[encoded data removed]",
            "text/plain": [
              "<Figure size 432x288 with 1 Axes>"
            ]
          },
          "metadata": {
            "needs_background": "light"
          }
        }
      ]
    },
    {
      "cell_type": "code",
      "metadata": {
        "colab": {
          "base_uri": "https://localhost:8080/",
          "height": 283
        },
        "id": "z4Fb-gEQbmBd",
        "outputId": "2a123d3a-cc3e-4aa7-f1d7-4e0929c2b61e"
      },
      "source": [
        "hist[['accuracy','val_accuracy']].plot()"
      ],
      "execution_count": null,
      "outputs": [
        {
          "output_type": "execute_result",
          "data": {
            "text/plain": [
              "<matplotlib.axes._subplots.AxesSubplot at 0x7f28cb2406d0>"
            ]
          },
          "metadata": {},
          "execution_count": 64
        },
        {
          "output_type": "display_data",
          "data": {
            "image/png": "[encoded data removed]",
            "text/plain": [
              "<Figure size 432x288 with 1 Axes>"
            ]
          },
          "metadata": {
            "needs_background": "light"
          }
        }
      ]
    },
    {
      "cell_type": "code",
      "metadata": {
        "colab": {
          "base_uri": "https://localhost:8080/",
          "height": 282
        },
        "id": "p0uR0baEbo2e",
        "outputId": "09d8efb1-d9b9-4a00-af71-8639c3ef8ea9"
      },
      "source": [
        "hist2[['loss','val_loss']].plot()"
      ],
      "execution_count": null,
      "outputs": [
        {
          "output_type": "execute_result",
          "data": {
            "text/plain": [
              "<matplotlib.axes._subplots.AxesSubplot at 0x7f28cb1b8410>"
            ]
          },
          "metadata": {},
          "execution_count": 65
        },
        {
          "output_type": "display_data",
          "data": {
            "image/png": "[encoded data removed]",
            "text/plain": [
              "<Figure size 432x288 with 1 Axes>"
            ]
          },
          "metadata": {
            "needs_background": "light"
          }
        }
      ]
    },
    {
      "cell_type": "code",
      "metadata": {
        "colab": {
          "base_uri": "https://localhost:8080/",
          "height": 282
        },
        "id": "HVHTx5LObpRH",
        "outputId": "b4c51600-73ee-459c-e6a5-9c643f013276"
      },
      "source": [
        "hist[['loss','val_loss']].plot()"
      ],
      "execution_count": null,
      "outputs": [
        {
          "output_type": "execute_result",
          "data": {
            "text/plain": [
              "<matplotlib.axes._subplots.AxesSubplot at 0x7f28cb1cdc50>"
            ]
          },
          "metadata": {},
          "execution_count": 66
        },
        {
          "output_type": "display_data",
          "data": {
            "image/png": "[encoded data removed]",
            "text/plain": [
              "<Figure size 432x288 with 1 Axes>"
            ]
          },
          "metadata": {
            "needs_background": "light"
          }
        }
      ]
    },
    {
      "cell_type": "markdown",
      "metadata": {
        "id": "abh5zwrXpRS2"
      },
      "source": [
        "There are seems to be an overfitting problem"
      ]
    },
    {
      "cell_type": "code",
      "metadata": {
        "colab": {
          "base_uri": "https://localhost:8080/"
        },
        "id": "DSslT-QprAEo",
        "outputId": "49bd6658-6700-45c1-89f9-7ecf5605aa46"
      },
      "source": [
        "tf.keras.backend.clear_session()\n",
        "# transformer_model = TFBertForSequenceClassification.from_pretrained('bert-base-cased',num_hidden_layers=2,num_labels=1, output_hidden_states=True)\n",
        "transformer_model = TFRobertaForSequenceClassification.from_pretrained('roberta-base',num_hidden_layers=2,num_labels=1, output_hidden_states=True)\n",
        "\n",
        "input_ids = tf.keras.Input(shape=(256, ),dtype='int32',name= 'input_ids')\n",
        "# token_type_ids = tf.keras.Input(shape=(256, ), dtype='int32',name= 'token_type_ids')\n",
        "# attention_mask = tf.keras.Input(shape=(256, ), dtype='int32',name= 'attention_mask')\n",
        "\n",
        "transformer = transformer_model([input_ids])    \n",
        "hidden_states = transformer[1] # get output_hidden_states\n",
        "\n",
        "hidden_states_size = 2 # count of the last states \n",
        "hiddes_states_ind = list(range(-hidden_states_size, 0, 1))\n",
        "\n",
        "selected_hiddes_states = tf.keras.layers.concatenate(tuple([hidden_states[i] for i in hiddes_states_ind]))\n",
        "\n",
        "# Now we can use selected_hiddes_states as we want\n",
        "\n",
        "output = tf.keras.layers.BatchNormalization()(selected_hiddes_states)\n",
        "output = tf.keras.layers.Activation('elu')(output)\n",
        "output = tf.keras.layers.Dense(1, activation='sigmoid')(output)\n",
        "model = tf.keras.models.Model(inputs = [input_ids], outputs = output)"
      ],
      "execution_count": null,
      "outputs": [
        {
          "output_type": "stream",
          "name": "stderr",
          "text": [
            "Some layers from the model checkpoint at roberta-base were not used when initializing TFRobertaForSequenceClassification: ['roberta/encoder/layer_._10/attention/self/query/kernel:0', 'roberta/encoder/layer_._4/output/LayerNorm/beta:0', 'roberta/encoder/layer_._9/attention/output/dense/kernel:0', 'roberta/encoder/layer_._3/output/dense/bias:0', 'roberta/encoder/layer_._5/attention/output/LayerNorm/gamma:0', 'roberta/encoder/layer_._8/attention/output/dense/bias:0', 'roberta/encoder/layer_._11/attention/self/query/kernel:0', 'roberta/encoder/layer_._10/attention/self/value/bias:0', 'roberta/encoder/layer_._8/attention/self/value/bias:0', 'roberta/encoder/layer_._4/attention/self/value/kernel:0', 'roberta/encoder/layer_._5/attention/output/dense/kernel:0', 'roberta/encoder/layer_._11/intermediate/dense/bias:0', 'roberta/encoder/layer_._11/output/dense/bias:0', 'roberta/encoder/layer_._3/attention/self/key/bias:0', 'roberta/encoder/layer_._2/output/LayerNorm/gamma:0', 'roberta/encoder/layer_._5/intermediate/dense/kernel:0', 'roberta/encoder/layer_._6/attention/self/value/kernel:0', 'roberta/encoder/layer_._3/attention/self/query/kernel:0', 'roberta/encoder/layer_._3/intermediate/dense/bias:0', 'roberta/encoder/layer_._11/attention/self/key/kernel:0', 'roberta/encoder/layer_._10/intermediate/dense/kernel:0', 'roberta/encoder/layer_._3/attention/output/LayerNorm/beta:0', 'roberta/encoder/layer_._5/attention/output/LayerNorm/beta:0', 'roberta/encoder/layer_._2/output/dense/kernel:0', 'roberta/encoder/layer_._11/attention/output/LayerNorm/beta:0', 'roberta/encoder/layer_._6/output/LayerNorm/beta:0', 'roberta/encoder/layer_._3/output/LayerNorm/gamma:0', 'roberta/encoder/layer_._3/intermediate/dense/kernel:0', 'roberta/encoder/layer_._10/attention/self/query/bias:0', 'roberta/encoder/layer_._10/intermediate/dense/bias:0', 'roberta/encoder/layer_._7/attention/self/query/kernel:0', 'roberta/encoder/layer_._8/output/dense/bias:0', 'roberta/encoder/layer_._9/attention/output/LayerNorm/gamma:0', 'roberta/encoder/layer_._7/attention/self/query/bias:0', 'roberta/encoder/layer_._4/attention/output/dense/kernel:0', 'roberta/encoder/layer_._4/intermediate/dense/kernel:0', 'roberta/encoder/layer_._11/attention/output/dense/bias:0', 'roberta/encoder/layer_._11/output/LayerNorm/beta:0', 'roberta/encoder/layer_._7/output/dense/kernel:0', 'roberta/encoder/layer_._7/attention/output/LayerNorm/beta:0', 'roberta/encoder/layer_._7/intermediate/dense/bias:0', 'roberta/encoder/layer_._4/attention/self/query/kernel:0', 'roberta/encoder/layer_._7/attention/output/LayerNorm/gamma:0', 'roberta/encoder/layer_._3/attention/output/LayerNorm/gamma:0', 'roberta/encoder/layer_._6/intermediate/dense/kernel:0', 'roberta/encoder/layer_._11/attention/self/value/bias:0', 'roberta/encoder/layer_._7/attention/output/dense/kernel:0', 'roberta/encoder/layer_._9/attention/self/key/kernel:0', 'roberta/encoder/layer_._6/attention/output/dense/kernel:0', 'roberta/encoder/layer_._6/output/dense/bias:0', 'roberta/encoder/layer_._7/attention/self/key/bias:0', 'roberta/encoder/layer_._6/attention/self/key/bias:0', 'roberta/encoder/layer_._8/intermediate/dense/bias:0', 'roberta/encoder/layer_._2/attention/self/value/kernel:0', 'roberta/encoder/layer_._2/output/LayerNorm/beta:0', 'roberta/encoder/layer_._2/intermediate/dense/bias:0', 'roberta/encoder/layer_._8/output/LayerNorm/beta:0', 'roberta/encoder/layer_._6/attention/output/dense/bias:0', 'roberta/encoder/layer_._6/intermediate/dense/bias:0', 'roberta/encoder/layer_._5/attention/self/query/kernel:0', 'roberta/encoder/layer_._4/attention/output/dense/bias:0', 'roberta/encoder/layer_._5/attention/self/value/bias:0', 'roberta/encoder/layer_._10/attention/output/dense/bias:0', 'roberta/encoder/layer_._10/attention/self/key/kernel:0', 'roberta/encoder/layer_._10/attention/output/LayerNorm/gamma:0', 'roberta/encoder/layer_._10/attention/self/value/kernel:0', 'roberta/encoder/layer_._2/attention/self/query/bias:0', 'roberta/encoder/layer_._11/attention/output/LayerNorm/gamma:0', 'roberta/encoder/layer_._11/attention/self/key/bias:0', 'roberta/encoder/layer_._8/attention/self/query/bias:0', 'roberta/encoder/layer_._8/attention/output/LayerNorm/gamma:0', 'roberta/encoder/layer_._5/output/dense/kernel:0', 'roberta/encoder/layer_._7/attention/self/key/kernel:0', 'roberta/encoder/layer_._9/attention/self/value/bias:0', 'roberta/encoder/layer_._3/attention/self/value/bias:0', 'roberta/encoder/layer_._3/attention/output/dense/kernel:0', 'roberta/encoder/layer_._9/intermediate/dense/bias:0', 'roberta/encoder/layer_._7/output/LayerNorm/gamma:0', 'roberta/encoder/layer_._8/output/LayerNorm/gamma:0', 'roberta/encoder/layer_._5/attention/self/key/kernel:0', 'roberta/encoder/layer_._2/attention/output/LayerNorm/gamma:0', 'roberta/encoder/layer_._4/attention/output/LayerNorm/beta:0', 'roberta/encoder/layer_._5/output/LayerNorm/gamma:0', 'roberta/encoder/layer_._6/attention/output/LayerNorm/gamma:0', 'roberta/encoder/layer_._5/output/dense/bias:0', 'roberta/encoder/layer_._2/attention/self/query/kernel:0', 'roberta/encoder/layer_._6/attention/self/query/kernel:0', 'roberta/encoder/layer_._8/attention/self/value/kernel:0', 'roberta/encoder/layer_._10/output/dense/kernel:0', 'roberta/encoder/layer_._10/output/dense/bias:0', 'roberta/encoder/layer_._5/attention/self/key/bias:0', 'roberta/encoder/layer_._5/attention/output/dense/bias:0', 'roberta/encoder/layer_._5/output/LayerNorm/beta:0', 'roberta/encoder/layer_._11/attention/output/dense/kernel:0', 'roberta/encoder/layer_._3/output/dense/kernel:0', 'roberta/encoder/layer_._6/attention/self/value/bias:0', 'roberta/encoder/layer_._9/attention/self/query/bias:0', 'roberta/encoder/layer_._10/attention/output/dense/kernel:0', 'roberta/encoder/layer_._5/attention/self/query/bias:0', 'roberta/encoder/layer_._2/attention/self/key/kernel:0', 'roberta/encoder/layer_._3/attention/self/value/kernel:0', 'roberta/encoder/layer_._9/attention/output/dense/bias:0', 'roberta/encoder/layer_._9/attention/output/LayerNorm/beta:0', 'roberta/encoder/layer_._8/output/dense/kernel:0', 'roberta/encoder/layer_._10/output/LayerNorm/gamma:0', 'roberta/encoder/layer_._7/attention/self/value/kernel:0', 'roberta/encoder/layer_._8/attention/output/dense/kernel:0', 'roberta/encoder/layer_._4/attention/self/query/bias:0', 'roberta/encoder/layer_._5/attention/self/value/kernel:0', 'roberta/encoder/layer_._4/output/dense/bias:0', 'roberta/encoder/layer_._9/attention/self/key/bias:0', 'roberta/encoder/layer_._9/attention/self/query/kernel:0', 'roberta/encoder/layer_._9/output/dense/bias:0', 'roberta/encoder/layer_._3/attention/self/key/kernel:0', 'roberta/encoder/layer_._4/attention/self/key/bias:0', 'roberta/encoder/layer_._4/output/dense/kernel:0', 'roberta/encoder/layer_._2/output/dense/bias:0', 'roberta/encoder/layer_._9/output/dense/kernel:0', 'roberta/encoder/layer_._2/attention/self/key/bias:0', 'roberta/encoder/layer_._8/intermediate/dense/kernel:0', 'roberta/encoder/layer_._9/attention/self/value/kernel:0', 'roberta/encoder/layer_._11/attention/self/query/bias:0', 'roberta/encoder/layer_._7/attention/output/dense/bias:0', 'roberta/encoder/layer_._11/output/dense/kernel:0', 'roberta/encoder/layer_._9/intermediate/dense/kernel:0', 'roberta/encoder/layer_._9/output/LayerNorm/beta:0', 'roberta/encoder/layer_._8/attention/self/key/bias:0', 'roberta/encoder/layer_._4/intermediate/dense/bias:0', 'roberta/encoder/layer_._5/intermediate/dense/bias:0', 'roberta/encoder/layer_._7/output/LayerNorm/beta:0', 'roberta/encoder/layer_._4/output/LayerNorm/gamma:0', 'roberta/encoder/layer_._6/attention/self/query/bias:0', 'roberta/encoder/layer_._11/intermediate/dense/kernel:0', 'roberta/encoder/layer_._11/output/LayerNorm/gamma:0', 'roberta/encoder/layer_._7/output/dense/bias:0', 'roberta/encoder/layer_._2/attention/output/LayerNorm/beta:0', 'roberta/encoder/layer_._2/attention/self/value/bias:0', 'roberta/encoder/layer_._2/intermediate/dense/kernel:0', 'roberta/encoder/layer_._8/attention/self/query/kernel:0', 'roberta/encoder/layer_._9/output/LayerNorm/gamma:0', 'roberta/encoder/layer_._10/output/LayerNorm/beta:0', 'roberta/encoder/layer_._6/output/LayerNorm/gamma:0', 'roberta/encoder/layer_._8/attention/output/LayerNorm/beta:0', 'roberta/encoder/layer_._7/intermediate/dense/kernel:0', 'roberta/encoder/layer_._2/attention/output/dense/bias:0', 'roberta/encoder/layer_._3/output/LayerNorm/beta:0', 'roberta/encoder/layer_._3/attention/output/dense/bias:0', 'roberta/encoder/layer_._6/output/dense/kernel:0', 'roberta/encoder/layer_._10/attention/self/key/bias:0', 'roberta/encoder/layer_._7/attention/self/value/bias:0', 'roberta/encoder/layer_._10/attention/output/LayerNorm/beta:0', 'roberta/encoder/layer_._2/attention/output/dense/kernel:0', 'roberta/encoder/layer_._4/attention/self/value/bias:0', 'roberta/encoder/layer_._4/attention/self/key/kernel:0', 'roberta/encoder/layer_._6/attention/output/LayerNorm/beta:0', 'roberta/encoder/layer_._4/attention/output/LayerNorm/gamma:0', 'roberta/encoder/layer_._8/attention/self/key/kernel:0', 'roberta/encoder/layer_._11/attention/self/value/kernel:0', 'roberta/encoder/layer_._6/attention/self/key/kernel:0', 'roberta/encoder/layer_._3/attention/self/query/bias:0']\n",
            "- This IS expected if you are initializing TFRobertaForSequenceClassification from the checkpoint of a model trained on another task or with another architecture (e.g. initializing a BertForSequenceClassification model from a BertForPreTraining model).\n",
            "- This IS NOT expected if you are initializing TFRobertaForSequenceClassification from the checkpoint of a model that you expect to be exactly identical (initializing a BertForSequenceClassification model from a BertForSequenceClassification model).\n",
            "Some layers of TFRobertaForSequenceClassification were not initialized from the model checkpoint at roberta-base and are newly initialized: ['classifier']\n",
            "You should probably TRAIN this model on a down-stream task to be able to use it for predictions and inference.\n"
          ]
        },
        {
          "output_type": "stream",
          "name": "stdout",
          "text": [
            "WARNING:tensorflow:The parameters `output_attentions`, `output_hidden_states` and `use_cache` cannot be updated when calling a model.They have to be set to True/False in the config object (i.e.: `config=XConfig.from_pretrained('name', output_attentions=True)`).\n",
            "WARNING:tensorflow:The parameter `return_dict` cannot be set in graph mode and will always be set to `True`.\n"
          ]
        }
      ]
    },
    {
      "cell_type": "markdown",
      "metadata": {
        "id": "X8jERggXQeFd"
      },
      "source": [
        "This seems to be the best model architecture, able to achieve more than 95% accuracy, the idea is to combe the hidden states output to get a better output then add batch normalization to avoid overfitting."
      ]
    },
    {
      "cell_type": "code",
      "metadata": {
        "colab": {
          "base_uri": "https://localhost:8080/",
          "height": 564
        },
        "id": "PQBLt8oRcWBe",
        "outputId": "d428af7d-0866-409b-d67d-4e66cbecafd1"
      },
      "source": [
        "tf.keras.utils.plot_model(model)"
      ],
      "execution_count": null,
      "outputs": [
        {
          "output_type": "execute_result",
          "data": {
            "image/png": "[encoded data removed]",
            "text/plain": [
              "<IPython.core.display.Image object>"
            ]
          },
          "metadata": {},
          "execution_count": 31
        }
      ]
    },
    {
      "cell_type": "code",
      "metadata": {
        "id": "nF49InC_Ke4-"
      },
      "source": [
        "model.compile(optimizer=tf.keras.optimizers.Nadam(learning_rate=1e-5, epsilon=1e-08),\n",
        "              loss='binary_crossentropy',\n",
        "              metrics=['accuracy'])"
      ],
      "execution_count": null,
      "outputs": []
    },
    {
      "cell_type": "code",
      "metadata": {
        "colab": {
          "base_uri": "https://localhost:8080/"
        },
        "id": "M_kB3lKlKhBy",
        "outputId": "a5c56652-ee45-477a-de65-41991d8647bf"
      },
      "source": [
        "history = model.fit(ds_train_encoded_roberta,\n",
        "                    epochs=EPOCHS,\n",
        "                    validation_data=(ds_valid_encoded_roberta),\n",
        "                    # callbacks=callbacks\n",
        "                    )"
      ],
      "execution_count": null,
      "outputs": [
        {
          "metadata": {
            "tags": null
          },
          "name": "stdout",
          "output_type": "stream",
          "text": [
            "Epoch 1/9\n",
            "WARNING:tensorflow:The parameters `output_attentions`, `output_hidden_states` and `use_cache` cannot be updated when calling a model.They have to be set to True/False in the config object (i.e.: `config=XConfig.from_pretrained('name', output_attentions=True)`).\n",
            "WARNING:tensorflow:The parameter `return_dict` cannot be set in graph mode and will always be set to `True`.\n"
          ]
        },
        {
          "metadata": {
            "tags": null
          },
          "name": "stderr",
          "output_type": "stream",
          "text": [
            "/usr/local/lib/python3.7/dist-packages/keras/engine/functional.py:585: UserWarning: Input dict contained keys ['attention_mask'] which did not match any model input. They will be ignored by the model.\n",
            "  [n for n in tensors.keys() if n not in ref_input_names])\n"
          ]
        },
        {
          "output_type": "stream",
          "name": "stdout",
          "text": [
            "WARNING:tensorflow:Gradients do not exist for variables ['tf_roberta_for_sequence_classification_1/classifier/dense/kernel:0', 'tf_roberta_for_sequence_classification_1/classifier/dense/bias:0', 'tf_roberta_for_sequence_classification_1/classifier/out_proj/kernel:0', 'tf_roberta_for_sequence_classification_1/classifier/out_proj/bias:0'] when minimizing the loss.\n",
            "WARNING:tensorflow:The parameters `output_attentions`, `output_hidden_states` and `use_cache` cannot be updated when calling a model.They have to be set to True/False in the config object (i.e.: `config=XConfig.from_pretrained('name', output_attentions=True)`).\n",
            "WARNING:tensorflow:The parameter `return_dict` cannot be set in graph mode and will always be set to `True`.\n",
            "WARNING:tensorflow:Gradients do not exist for variables ['tf_roberta_for_sequence_classification_1/classifier/dense/kernel:0', 'tf_roberta_for_sequence_classification_1/classifier/dense/bias:0', 'tf_roberta_for_sequence_classification_1/classifier/out_proj/kernel:0', 'tf_roberta_for_sequence_classification_1/classifier/out_proj/bias:0'] when minimizing the loss.\n",
            "681/681 [==============================] - ETA: 0s - loss: 0.2637 - accuracy: 0.8889WARNING:tensorflow:The parameters `output_attentions`, `output_hidden_states` and `use_cache` cannot be updated when calling a model.They have to be set to True/False in the config object (i.e.: `config=XConfig.from_pretrained('name', output_attentions=True)`).\n",
            "WARNING:tensorflow:The parameter `return_dict` cannot be set in graph mode and will always be set to `True`.\n",
            "681/681 [==============================] - 439s 633ms/step - loss: 0.2637 - accuracy: 0.8889 - val_loss: 0.2232 - val_accuracy: 0.9237\n",
            "Epoch 2/9\n",
            "681/681 [==============================] - 431s 632ms/step - loss: 0.1711 - accuracy: 0.9343 - val_loss: 0.1541 - val_accuracy: 0.9448\n",
            "Epoch 3/9\n",
            "681/681 [==============================] - 431s 632ms/step - loss: 0.1410 - accuracy: 0.9467 - val_loss: 0.1250 - val_accuracy: 0.9539\n",
            "Epoch 4/9\n",
            "681/681 [==============================] - 431s 632ms/step - loss: 0.1220 - accuracy: 0.9541 - val_loss: 0.1207 - val_accuracy: 0.9567\n",
            "Epoch 5/9\n",
            "681/681 [==============================] - 431s 632ms/step - loss: 0.1048 - accuracy: 0.9616 - val_loss: 0.1281 - val_accuracy: 0.9520\n",
            "Epoch 6/9\n",
            "681/681 [==============================] - 431s 632ms/step - loss: 0.0959 - accuracy: 0.9644 - val_loss: 0.1126 - val_accuracy: 0.9583\n",
            "Epoch 7/9\n",
            "681/681 [==============================] - 431s 632ms/step - loss: 0.0819 - accuracy: 0.9702 - val_loss: 0.1299 - val_accuracy: 0.9588\n",
            "Epoch 8/9\n",
            "681/681 [==============================] - 431s 633ms/step - loss: 0.0741 - accuracy: 0.9728 - val_loss: 0.1119 - val_accuracy: 0.9614\n",
            "Epoch 9/9\n",
            "681/681 [==============================] - 432s 634ms/step - loss: 0.0620 - accuracy: 0.9780 - val_loss: 0.1504 - val_accuracy: 0.9580\n"
          ]
        }
      ]
    },
    {
      "cell_type": "code",
      "metadata": {
        "id": "VngEkbtG5rJD"
      },
      "source": [
        "hist = pd.DataFrame(history.history)"
      ],
      "execution_count": null,
      "outputs": []
    },
    {
      "cell_type": "code",
      "metadata": {
        "colab": {
          "base_uri": "https://localhost:8080/"
        },
        "id": "h-zY9I8-jbR6",
        "outputId": "3778296f-b689-4fbf-f5e4-b29bf1d08dc0"
      },
      "source": [
        "model.fit(ds_train_encoded_roberta,\n",
        "          epochs=3,\n",
        "          validation_data=(ds_valid_encoded_roberta),\n",
        "          # callbacks=callbacks\n",
        "          )"
      ],
      "execution_count": null,
      "outputs": [
        {
          "output_type": "stream",
          "name": "stdout",
          "text": [
            "Epoch 1/3\n",
            "681/681 [==============================] - 431s 632ms/step - loss: 0.0545 - accuracy: 0.9805 - val_loss: 0.1322 - val_accuracy: 0.9592\n",
            "Epoch 2/3\n",
            "681/681 [==============================] - 431s 632ms/step - loss: 0.0465 - accuracy: 0.9836 - val_loss: 0.1839 - val_accuracy: 0.9533\n",
            "Epoch 3/3\n",
            "681/681 [==============================] - 431s 633ms/step - loss: 0.0398 - accuracy: 0.9856 - val_loss: 0.1423 - val_accuracy: 0.9616\n"
          ]
        }
      ]
    },
    {
      "cell_type": "code",
      "metadata": {
        "colab": {
          "base_uri": "https://localhost:8080/",
          "height": 282
        },
        "id": "cUMQVwPaZY5E",
        "outputId": "3e6ecb3d-d2f5-41cc-8d0b-edee354003c2"
      },
      "source": [
        "hist.plot()"
      ],
      "execution_count": null,
      "outputs": [
        {
          "output_type": "execute_result",
          "data": {
            "text/plain": [
              "<matplotlib.axes._subplots.AxesSubplot at 0x7f75a4dda0d0>"
            ]
          },
          "metadata": {},
          "execution_count": 32
        },
        {
          "output_type": "display_data",
          "data": {
            "image/png": "[encoded data removed]",
            "text/plain": [
              "<Figure size 432x288 with 1 Axes>"
            ]
          },
          "metadata": {
            "needs_background": "light"
          }
        }
      ]
    },
    {
      "cell_type": "code",
      "metadata": {
        "colab": {
          "base_uri": "https://localhost:8080/",
          "height": 282
        },
        "id": "iFqZjUzZLG_n",
        "outputId": "5f488b82-3023-4aac-8db2-f24a2060f09e"
      },
      "source": [
        "hist[['accuracy','val_accuracy']].plot()"
      ],
      "execution_count": null,
      "outputs": [
        {
          "output_type": "execute_result",
          "data": {
            "text/plain": [
              "<matplotlib.axes._subplots.AxesSubplot at 0x7f2d20357990>"
            ]
          },
          "metadata": {},
          "execution_count": 102
        },
        {
          "output_type": "display_data",
          "data": {
            "image/png": "[encoded data removed]",
            "text/plain": [
              "<Figure size 432x288 with 1 Axes>"
            ]
          },
          "metadata": {
            "needs_background": "light"
          }
        }
      ]
    },
    {
      "cell_type": "code",
      "metadata": {
        "colab": {
          "base_uri": "https://localhost:8080/"
        },
        "id": "U27B4OzWBLDT",
        "outputId": "ffed23d4-83d4-471a-95c6-50961e47b54f"
      },
      "source": [
        "from sklearn.metrics import classification_report\n",
        "\n",
        "\n",
        "prob = model.predict(ds_valid_encoded_roberta)\n",
        "pred = [int(x.mean() > .2) for x in prob]\n",
        "\n",
        "print(classification_report(pred,y_valid))"
      ],
      "execution_count": null,
      "outputs": [
        {
          "output_type": "stream",
          "name": "stdout",
          "text": [
            "              precision    recall  f1-score   support\n",
            "\n",
            "           0       0.95      0.98      0.96      4797\n",
            "           1       0.97      0.95      0.96      4539\n",
            "\n",
            "    accuracy                           0.96      9336\n",
            "   macro avg       0.96      0.96      0.96      9336\n",
            "weighted avg       0.96      0.96      0.96      9336\n",
            "\n"
          ]
        }
      ]
    },
    {
      "cell_type": "markdown",
      "metadata": {
        "id": "7BUewypkJEEQ"
      },
      "source": [
        "# Evaluation"
      ]
    },
    {
      "cell_type": "code",
      "metadata": {
        "colab": {
          "base_uri": "https://localhost:8080/"
        },
        "id": "6VUswkFNs5pM",
        "outputId": "604ea9a8-97fd-4dbf-a0b4-de68a8fbb895"
      },
      "source": [
        "from sklearn.metrics import classification_report\n",
        "\n",
        "\n",
        "prob = model.predict(ds_unseen_encoded_roberta)\n",
        "pred = [int(x.mean() > .2) for x in prob]\n",
        "print(classification_report(pred,y_unseen))"
      ],
      "execution_count": null,
      "outputs": [
        {
          "output_type": "stream",
          "name": "stdout",
          "text": [
            "              precision    recall  f1-score   support\n",
            "\n",
            "           0       0.96      0.97      0.97      7581\n",
            "           1       0.97      0.95      0.96      6504\n",
            "\n",
            "    accuracy                           0.96     14085\n",
            "   macro avg       0.96      0.96      0.96     14085\n",
            "weighted avg       0.96      0.96      0.96     14085\n",
            "\n"
          ]
        }
      ]
    },
    {
      "cell_type": "code",
      "metadata": {
        "colab": {
          "base_uri": "https://localhost:8080/"
        },
        "id": "2xvGF6srstKG",
        "outputId": "ca25c6de-1420-4f9f-9cb2-d1881a2246e0"
      },
      "source": [
        "model.evaluate(ds_unseen_encoded_roberta)"
      ],
      "execution_count": null,
      "outputs": [
        {
          "output_type": "stream",
          "name": "stdout",
          "text": [
            "441/441 [==============================] - 77s 174ms/step - loss: 0.1450 - accuracy: 0.9628\n"
          ]
        },
        {
          "output_type": "execute_result",
          "data": {
            "text/plain": [
              "[0.14503303170204163, 0.9627620577812195]"
            ]
          },
          "metadata": {},
          "execution_count": 75
        }
      ]
    },
    {
      "cell_type": "code",
      "metadata": {
        "id": "PqbawDyfOS-z"
      },
      "source": [
        "def predict_sentences(words,model,tokenizer,classes=['Fake','Real']):\n",
        "    words = expand_contractions(words).lower()\n",
        "    bert_input = convert_sentence_to_features(words,tokenizer) \n",
        "    pred = model.predict(tf.data.Dataset.from_tensor_slices(([bert_input['input_ids']], [bert_input['attention_mask']],[0])).map(map_features_to_dict))\n",
        "    return classes[int(x.mean() > .2)]"
      ],
      "execution_count": null,
      "outputs": []
    },
    {
      "cell_type": "code",
      "metadata": {
        "id": "cDjW4PaNuQnj"
      },
      "source": [
        "model.save_weights('bert_model.hdf5')"
      ],
      "execution_count": null,
      "outputs": []
    },
    {
      "cell_type": "markdown",
      "metadata": {
        "id": "cb12ULdaKmsh"
      },
      "source": [
        "We have done data analysis and cleaning and found that the structure of the text itself, the use of words, the topic talked are biased so it's natural to have a high accuracy on the baseline model where it pick up word patterns in the text. To take care of this we tried adding more data from https://www.kaggle.com/mrisdal/fake-news. We use Bert family so that the model can differentiate the data contextually not just by word patterns in the text. Although the data itself contains a lot of indicators enough to get to that 93% accuracy RoBerta performs better in capturing the topic of the news article achieving a 96% accuracy. "
      ]
    },
    {
      "cell_type": "markdown",
      "metadata": {
        "id": "Mjg80F1U39HK"
      },
      "source": [
        "# Conclusion"
      ]
    },
    {
      "cell_type": "markdown",
      "metadata": {
        "id": "fLEwaPrv3xkZ"
      },
      "source": [
        "In conclusion neural network shows to be one of the greatest achievements in the field of NLP, by using RoBerta we were able to capture contextually the \"fake/sensational\" nature of news, achieving high accuracy in this dataset test. Futhermore there are still improvements to be made.\n",
        "\n",
        "- more datasets"
      ]
    }
  ]
}